{
 "cells": [
  {
   "cell_type": "code",
   "execution_count": 1,
   "id": "024e9fc3",
   "metadata": {},
   "outputs": [],
   "source": [
    "from tf_idf_my_func import *"
   ]
  },
  {
   "cell_type": "code",
   "execution_count": 2,
   "id": "574a210e",
   "metadata": {},
   "outputs": [],
   "source": [
    "import pandas as pd"
   ]
  },
  {
   "cell_type": "code",
   "execution_count": 3,
   "id": "62ec2f31",
   "metadata": {
    "scrolled": true
   },
   "outputs": [
    {
     "name": "stderr",
     "output_type": "stream",
     "text": [
      "Found cached dataset billsum (/Users/emilygong/.cache/huggingface/datasets/billsum/default/3.0.0/75cf1719d38d6553aa0e0714c393c74579b083ae6e164b2543684e3e92e0c4cc)\n"
     ]
    },
    {
     "data": {
      "application/vnd.jupyter.widget-view+json": {
       "model_id": "e1b3794836204b7b8c2cf1e64bf2be4e",
       "version_major": 2,
       "version_minor": 0
      },
      "text/plain": [
       "  0%|          | 0/3 [00:00<?, ?it/s]"
      ]
     },
     "metadata": {},
     "output_type": "display_data"
    }
   ],
   "source": [
    "dataset = load_dataset(\"billsum\")"
   ]
  },
  {
   "cell_type": "code",
   "execution_count": 4,
   "id": "2dfdc0c9",
   "metadata": {},
   "outputs": [],
   "source": [
    "train = pd.DataFrame(dataset['train'] )\n",
    "train = train.dropna()\n",
    "test = pd.DataFrame(dataset['test'] )\n",
    "test = test.dropna()\n",
    "ca_test = pd.DataFrame(dataset['ca_test'] )\n",
    "ca_test = ca_test.dropna()"
   ]
  },
  {
   "cell_type": "markdown",
   "id": "81e95ceb",
   "metadata": {},
   "source": [
    "# Preprocessing test dataset"
   ]
  },
  {
   "cell_type": "code",
   "execution_count": 5,
   "id": "2a37118a",
   "metadata": {},
   "outputs": [],
   "source": [
    "example = test.iat[0, 0]"
   ]
  },
  {
   "cell_type": "code",
   "execution_count": 6,
   "id": "4b0765e1",
   "metadata": {},
   "outputs": [],
   "source": [
    "example_sentences = split_right(example)"
   ]
  },
  {
   "cell_type": "code",
   "execution_count": 7,
   "id": "e1c931b7",
   "metadata": {},
   "outputs": [
    {
     "data": {
      "text/plain": [
       "['SECTION 1. ENVIRONMENTAL INFRASTRUCTURE.',\n",
       " '(a) Jackson County, Mississippi.--Section 219 of the Water Resources Development Act of 1992 (106 Stat. 4835; 110 Stat. 3757) is amended--',\n",
       " '(1) in subsection (c), by striking paragraph (5) and inserting the following:',\n",
       " \"``(5) Jackson county, mississippi.--Provision of an alternative water supply and a project for the elimination or control of combined sewer overflows for Jackson County, Mississippi.''; and\",\n",
       " \"(2) in subsection (e)(1), by striking ``$10,000,000'' and inserting ``$20,000,000''.\",\n",
       " \"(b) Manchester, New Hampshire.--Section 219(e)(3) of the Water Resources Development Act of 1992 (106 Stat. 4835; 110 Stat. 3757) is amended by striking ``$10,000,000'' and inserting ``$20,000,000''.\",\n",
       " \"(c) Atlanta, Georgia.--Section 219(f)(1) of the Water Resources Development Act of 1992 (106 Stat. 4835; 113 Stat. 335) is amended by striking ``$25,000,000 for''.\",\n",
       " \"(d) Paterson, Passaic County, and Passaic Valley, New Jersey.--Section 219(f)(2) of the Water Resources Development Act of 1992 (106 Stat. 4835; 113 Stat. 335) is amended by striking ``$20,000,000 for''.\",\n",
       " '(e) Elizabeth and North Hudson, New Jersey.--Section 219(f) of the Water Resources Development Act of 1992 (106 Stat. 4835; 113 Stat. 335) is amended--',\n",
       " \"(1) in paragraph (33), by striking ``$20,000,000'' and inserting ``$10,000,000''; and\",\n",
       " '(2) in paragraph (34)--',\n",
       " \"(A) by striking ``$10,000,000'' and inserting ``$20,000,000''; and\",\n",
       " \"(B) by striking ``in the city of North Hudson'' and inserting ``for the North Hudson Sewerage Authority''.\",\n",
       " 'SEC. 2. UPPER MISSISSIPPI RIVER ENVIRONMENTAL MANAGEMENT PROGRAM.',\n",
       " \"Section 1103(e)(5) of the Water Resources Development Act of 1986 (33 U.S.C. 652(e)(5)) (as amended by section 509(c)(3) of the Water Resources Development Act of 1999 (113 Stat. 340)) is amended by striking ``paragraph (1)(A)(i)'' and inserting ``paragraph (1)(B)''.\",\n",
       " 'SEC. 3. DELAWARE RIVER, PENNSYLVANIA AND DELAWARE.',\n",
       " \"Section 346 of the Water Resources Development Act of 1999 (113 Stat. 309) is amended by striking ``economically acceptable'' and inserting ``environmentally acceptable''.\",\n",
       " 'SEC. 4. PROJECT REAUTHORIZATIONS.',\n",
       " 'Section 364 of the Water Resources Development Act of 1999 (113 Stat. 313) is amended--',\n",
       " \"(1) by striking ``Each'' and all that follows through the colon and inserting the following: ``Each of the following projects is authorized to be carried out by the Secretary, and no construction on any such project may be initiated until the Secretary determines that the project is technically sound, environmentally acceptable, and economically justified:'';\",\n",
       " '(2) by striking paragraph (1); and',\n",
       " '(3) by redesignating paragraphs (2) through (6) as paragraphs ',\n",
       " '(1) through (5), respectively.',\n",
       " 'SEC. 5. SHORE PROTECTION.',\n",
       " \"Section 103(d)(2)(A) of the Water Resources Development Act of 1986 (33 U.S.C. 2213(d)(2)(A)) (as amended by section 215(a)(2) of the Water Resources Development Act of 1999 (113 Stat. 292)) is amended by striking ``or for which a feasibility study is completed after that date,'' and inserting ``except for a project for which a District Engineer's Report is completed by that date,''.\",\n",
       " 'SEC. 6. COMITE RIVER, LOUISIANA.',\n",
       " 'Section 371 of the Water Resources Development Act of 1999 (113 Stat. 321) is amended--',\n",
       " \"(1) by inserting ``(a) In General.--'' before ``The''; and\",\n",
       " '(2) by adding at the end the following:',\n",
       " \"``(b) Crediting of Reduction in Non-Federal Share.--The project cooperation agreement for the Comite River Diversion Project shall include a provision that specifies that any reduction in the non-Federal share that results from the modification under subsection (a) shall be credited toward the share of project costs to be paid by the Amite River Basin Drainage and Water Conservation District.''.\",\n",
       " 'SEC. 7. CHESAPEAKE CITY, MARYLAND.',\n",
       " \"Section 535(b) of the Water Resources Development Act of 1999 (113 Stat. 349) is amended by striking ``the city of Chesapeake'' each place it appears and inserting ``Chesapeake City''.\",\n",
       " 'SEC. 8. CONTINUATION OF SUBMISSION OF CERTAIN REPORTS BY THE SECRETARY   OF THE ARMY.',\n",
       " \"(a) Recommendations of Inland Waterways Users Board.--Section 302(b) of the Water Resources Development Act of 1986 (33 U.S.C. 2251(b)) is amended in the last sentence by striking ``The'' and inserting ``Notwithstanding section 3003 of Public Law 104-66 (31 U.S.C. 1113 note; 109 Stat. 734), the''.\",\n",
       " \"(b) List of Authorized but Unfunded Studies.--Section 710(a) of the Water Resources Development Act of 1986 (33 U.S.C. 2264(a)) is amended in the first sentence by striking ``Not'' and inserting ``Notwithstanding section 3003 of Public Law 104-66 (31 U.S.C. 1113 note; 109 Stat. 734), not''.\",\n",
       " \"(c) Reports on Participation of Minority Groups and Minority-Owned Firms in Mississippi River-Gulf Outlet Feature.--Section 844(b) of the Water Resources Development Act of 1986 (100 Stat. 4177) is amended in the second sentence by striking ``The'' and inserting ``Notwithstanding section 3003 of Public Law 104-66 (31 U.S.C. 1113 note; 109 Stat. 734), the''.\",\n",
       " \"(d) List of Authorized but Unfunded Projects.--Section 1001(b)(2) of the Water Resources Development Act of 1986 (33 U.S.C. 579a(b)(2)) is amended in the first sentence by striking ``Every'' and inserting ``Notwithstanding section 3003 of Public Law 104-66 (31 U.S.C. 1113 note; 109 Stat. 734), every''.\",\n",
       " 'SEC. 9. AUTHORIZATIONS FOR PROGRAM PREVIOUSLY AND CURRENTLY FUNDED.',\n",
       " '(a) Program Authorization.--The program described in subsection (c) is hereby authorized.',\n",
       " '(b) Authorization of Appropriations.--Funds are hereby authorized to be appropriated for the Department of Transportation for the program authorized in subsection (a) in amounts as follows:',\n",
       " '(1) Fiscal year 2000.--For fiscal year 2000, $10,000,000.',\n",
       " '(2) Fiscal year 2001.--For fiscal year 2001, $10,000,000.',\n",
       " '(3) Fiscal year 2002.--For fiscal year 2002, $7,000,000.',\n",
       " \"(c) Applicability.--The program referred to in subsection (a) is the program for which funds appropriated in title I of Public Law 106-69 under the heading ``FEDERAL RAILROAD ADMINISTRATION'' are available for obligation upon the enactment of legislation authorizing the program.\",\n",
       " '                               Speaker of the House of Representatives.',\n",
       " 'Vice President of the United States and       President of the Senate.']"
      ]
     },
     "execution_count": 7,
     "metadata": {},
     "output_type": "execute_result"
    }
   ],
   "source": [
    "example_sentences"
   ]
  },
  {
   "cell_type": "code",
   "execution_count": 8,
   "id": "89b6992f",
   "metadata": {},
   "outputs": [],
   "source": [
    "for i in range(len(example_sentences)):\n",
    "    example_sentences[i] = preprocessing(example_sentences[i])"
   ]
  },
  {
   "cell_type": "code",
   "execution_count": 12,
   "id": "883b9e05",
   "metadata": {},
   "outputs": [
    {
     "data": {
      "text/plain": [
       "[['section 1. environmental infrastructure.'],\n",
       " [' jackson county, mississippi.',\n",
       "  'section 219 of the water resources development act of 1992 is amended'],\n",
       " [' in subsection , by striking paragraph and inserting the following'],\n",
       " [' jackson county, mississippi.',\n",
       "  'provision of an alternative water supply and a project for the elimination or control of combined sewer overflows for jackson county, mississippi.',\n",
       "  'and'],\n",
       " [' in subsection , by striking 10,000,000 and inserting 20,000,000.'],\n",
       " [' manchester, new hampshire.',\n",
       "  'section 219 of the water resources development act of 1992 is amended by striking 10,000,000 and inserting 20,000,000.'],\n",
       " [' atlanta, georgia.',\n",
       "  'section 219 of the water resources development act of 1992 is amended by striking 25,000,000 for.'],\n",
       " [' paterson, passaic county, and passaic valley, new jersey.',\n",
       "  'section 219 of the water resources development act of 1992 is amended by striking 20,000,000 for.'],\n",
       " [' elizabeth and north hudson, new jersey.',\n",
       "  'section 219 of the water resources development act of 1992 is amended'],\n",
       " [' in paragraph , by striking 20,000,000 and inserting 10,000,000 and'],\n",
       " [' in paragraph'],\n",
       " [' by striking 10,000,000 and inserting 20,000,000 and'],\n",
       " [' by striking in the city of north hudson and inserting for the north hudson sewerage authority.'],\n",
       " ['sec.', '2. upper mississippi river environmental management program.'],\n",
       " ['section 1103 of the water resources development act of 1986  of the water resources development act of 1999  is amended by striking paragraph  and inserting paragraph .'],\n",
       " ['sec.', '3. delaware river, pennsylvania and delaware.'],\n",
       " ['section 346 of the water resources development act of 1999 is amended by striking economically acceptable and inserting environmentally acceptable.'],\n",
       " ['sec.', '4. project reauthorizations.'],\n",
       " ['section 364 of the water resources development act of 1999 is amended'],\n",
       " [' by striking each and all that follows through the colon and inserting the following each of the following projects is authorized to be carried out by the secretary, and no construction on any such project may be initiated until the secretary determines that the project is technically sound, environmentally acceptable, and economically justified'],\n",
       " [' by striking paragraph  and'],\n",
       " [' by redesignating paragraphs through as paragraphs'],\n",
       " [' through , respectively.'],\n",
       " ['sec.', '5. shore protection.'],\n",
       " ['section 103 of the water resources development act of 1986  of the water resources development act of 1999  is amended by striking or for which a feasibility study is completed after that date, and inserting except for a project for which a district engineers report is completed by that date,.'],\n",
       " ['sec.', '6. comite river, louisiana.'],\n",
       " ['section 371 of the water resources development act of 1999 is amended'],\n",
       " [' by inserting  in general.', 'before the and'],\n",
       " [' by adding at the end the following'],\n",
       " [' crediting of reduction in nonfederal share.',\n",
       "  'the project cooperation agreement for the comite river diversion project shall include a provision that specifies that any reduction in the nonfederal share that results from the modification under subsection shall be credited toward the share of project costs to be paid by the amite river basin drainage and water conservation district.',\n",
       "  '.'],\n",
       " ['sec.', '7. chesapeake city, maryland.'],\n",
       " ['section 535 of the water resources development act of 1999 is amended by striking the city of chesapeake each place it appears and inserting chesapeake city.'],\n",
       " ['sec.',\n",
       "  '8. continuation of submission of certain reports by the secretary of the army.'],\n",
       " [' recommendations of inland waterways users board.',\n",
       "  'section 302 of the water resources development act of 1986  is amended in the last sentence by striking the and inserting notwithstanding section 3003 of public law 10466 , the.'],\n",
       " [' list of authorized but unfunded studies.',\n",
       "  'section 710 of the water resources development act of 1986  is amended in the first sentence by striking not and inserting notwithstanding section 3003 of public law 10466 , not.'],\n",
       " [' reports on participation of minority groups and minorityowned firms in mississippi rivergulf outlet feature.',\n",
       "  'section 844 of the water resources development act of 1986 is amended in the second sentence by striking the and inserting notwithstanding section 3003 of public law 10466 , the.'],\n",
       " [' list of authorized but unfunded projects.',\n",
       "  'section 1001 of the water resources development act of 1986  is amended in the first sentence by striking every and inserting notwithstanding section 3003 of public law 10466 , every.'],\n",
       " ['sec.', '9. authorizations for program previously and currently funded.'],\n",
       " [' program authorization.',\n",
       "  'the program described in subsection is hereby authorized.'],\n",
       " [' authorization of appropriations.',\n",
       "  'funds are hereby authorized to be appropriated for the department of transportation for the program authorized in subsection in amounts as follows'],\n",
       " [' fiscal year 2000. for fiscal year 2000, 10,000,000.'],\n",
       " [' fiscal year 2001. for fiscal year 2001, 10,000,000.'],\n",
       " [' fiscal year 2002. for fiscal year 2002, 7,000,000.'],\n",
       " [' applicability.',\n",
       "  'the program referred to in subsection is the program for which funds appropriated in title i of public law 10669 under the heading federal railroad administration are available for obligation upon the enactment of legislation authorizing the program.'],\n",
       " [' speaker of the house of representatives.'],\n",
       " ['vice president of the united states and president of the senate.']]"
      ]
     },
     "execution_count": 12,
     "metadata": {},
     "output_type": "execute_result"
    }
   ],
   "source": [
    "example_sentences"
   ]
  },
  {
   "cell_type": "code",
   "execution_count": 34,
   "id": "f08b50e5",
   "metadata": {
    "scrolled": true
   },
   "outputs": [],
   "source": [
    "# stemmed_sentences = stemming(preprocessed)"
   ]
  },
  {
   "cell_type": "markdown",
   "id": "b8ad0a99",
   "metadata": {},
   "source": [
    "# TF-IDF"
   ]
  },
  {
   "cell_type": "markdown",
   "id": "859fee19",
   "metadata": {},
   "source": [
    "## For each document, create a frequency matrix"
   ]
  },
  {
   "cell_type": "code",
   "execution_count": 35,
   "id": "c3215c87",
   "metadata": {
    "scrolled": true
   },
   "outputs": [],
   "source": [
    "freq_matrix = create_freq_matrix(preprocessed, stemmed_sentences)"
   ]
  },
  {
   "cell_type": "markdown",
   "id": "6cab7161",
   "metadata": {},
   "source": [
    "## Term Frequency TF\n",
    "TF(t) = (Number of times term t appears in a sentence) / (Total number of terms in the sentence)"
   ]
  },
  {
   "cell_type": "code",
   "execution_count": 36,
   "id": "0caabe4f",
   "metadata": {},
   "outputs": [],
   "source": [
    "tf_matrix = tf(freq_matrix)"
   ]
  },
  {
   "cell_type": "markdown",
   "id": "f33ceec1",
   "metadata": {},
   "source": [
    "## Inverse Document Frequency IDF\n",
    "\n",
    "First, we calculate, “how many sentences contain a word”, Let’s call it Documents per words matrix.\n",
    "\n",
    "Then, we apply the formula IDF(t) = log_e(Total number of sentences / Number of sentences with term t in it)"
   ]
  },
  {
   "cell_type": "code",
   "execution_count": 37,
   "id": "2950f52d",
   "metadata": {},
   "outputs": [],
   "source": [
    "num_sent_per_word = num_sent_per_word(stemmed_sentences)"
   ]
  },
  {
   "cell_type": "code",
   "execution_count": 38,
   "id": "bb61e827",
   "metadata": {},
   "outputs": [],
   "source": [
    "idf_matrix = idf(freq_matrix, num_sent_per_word, len(stemmed_sentences))"
   ]
  },
  {
   "cell_type": "markdown",
   "id": "c3534d94",
   "metadata": {},
   "source": [
    "## TF-IDF\n",
    "\n",
    "For the tf and idf values associated with each stem, multiply tf * idf"
   ]
  },
  {
   "cell_type": "code",
   "execution_count": 39,
   "id": "3b0f530c",
   "metadata": {},
   "outputs": [],
   "source": [
    "tf_idf_matrix = tf_idf(tf_matrix, idf_matrix)"
   ]
  },
  {
   "cell_type": "markdown",
   "id": "ad23383d",
   "metadata": {},
   "source": [
    "## Score the Sentences & Find Avg Score"
   ]
  },
  {
   "cell_type": "code",
   "execution_count": 41,
   "id": "b18e7c63",
   "metadata": {},
   "outputs": [],
   "source": [
    "sentences_score = score_sentences(tf_idf_matrix)"
   ]
  },
  {
   "cell_type": "code",
   "execution_count": 49,
   "id": "ac1d1a1f",
   "metadata": {},
   "outputs": [],
   "source": [
    "threshold = average_sent_score(sentences_score)"
   ]
  },
  {
   "cell_type": "markdown",
   "id": "92b733f4",
   "metadata": {},
   "source": [
    "# Generate Summary"
   ]
  },
  {
   "cell_type": "code",
   "execution_count": 61,
   "id": "997663ca",
   "metadata": {},
   "outputs": [],
   "source": [
    "def _generate_summary(sentences, sentenceValue, threshold):\n",
    "    sentence_count = 0\n",
    "    summary = ''\n",
    "\n",
    "    for sentence in sentences:\n",
    "        if sentence in sentenceValue and sentenceValue[sentence] >= (threshold):\n",
    "            summary += \" \" + sentence\n",
    "            sentence_count += 1\n",
    "\n",
    "    return summary"
   ]
  },
  {
   "cell_type": "code",
   "execution_count": 65,
   "id": "bf234a48",
   "metadata": {},
   "outputs": [],
   "source": [
    "summary = _generate_summary(preprocessed, sentences_score, 1.3 * threshold)"
   ]
  },
  {
   "cell_type": "code",
   "execution_count": 67,
   "id": "5add6506",
   "metadata": {},
   "outputs": [
    {
     "data": {
      "text/plain": [
       "['section 1. environmental infrastructure.',\n",
       " 'jackson county, mississippi.',\n",
       " 'section 219 of the water resources development act of 1992 is amended in subsection , by striking paragraph and inserting the following  jackson county, mississippi.',\n",
       " 'provision of an alternative water supply and a project for the elimination or control of combined sewer overflows for jackson county, mississippi.',\n",
       " 'and in subsection , by striking 10,000,000 and inserting 20,000,000. manchester, new hampshire.',\n",
       " 'section 219 of the water resources development act of 1992 is amended by striking 10,000,000 and inserting 20,000,000. atlanta, georgia.',\n",
       " 'section 219 of the water resources development act of 1992 is amended by striking 25,000,000 for.',\n",
       " 'paterson, passaic county, and passaic valley, new jersey.',\n",
       " 'section 219 of the water resources development act of 1992 is amended by striking 20,000,000 for.',\n",
       " 'elizabeth and north hudson, new jersey.',\n",
       " 'section 219 of the water resources development act of 1992 is amended in paragraph , by striking 20,000,000 and inserting 10,000,000 and in paragraph  by striking 10,000,000 and inserting 20,000,000 and by striking in the city of north hudson and inserting for the north hudson sewerage authority.',\n",
       " 'sec.',\n",
       " '2. upper mississippi river environmental management program.',\n",
       " 'section 1103 of the water resources development act of 1986  of the water resources development act of 1999  is amended by striking paragraph  and inserting paragraph .',\n",
       " 'sec.',\n",
       " '3. delaware river, pennsylvania and delaware.',\n",
       " 'section 346 of the water resources development act of 1999 is amended by striking economically acceptable and inserting environmentally acceptable.',\n",
       " 'sec.',\n",
       " '4. project reauthorizations.',\n",
       " 'section 364 of the water resources development act of 1999 is amended by striking each and all that follows through the colon and inserting the following each of the following projects is authorized to be carried out by the secretary, and no construction on any such project may be initiated until the secretary determines that the project is technically sound, environmentally acceptable, and economically justified by striking paragraph  and by redesignating paragraphs through as paragraphs through , respectively.',\n",
       " 'sec.',\n",
       " '5. shore protection.',\n",
       " 'section 103 of the water resources development act of 1986  of the water resources development act of 1999  is amended by striking or for which a feasibility study is completed after that date, and inserting except for a project for which a district engineers report is completed by that date,.',\n",
       " 'sec.',\n",
       " '6. comite river, louisiana.',\n",
       " 'section 371 of the water resources development act of 1999 is amended by inserting  in general.',\n",
       " 'before the and by adding at the end the following  crediting of reduction in nonfederal share.',\n",
       " 'the project cooperation agreement for the comite river diversion project shall include a provision that specifies that any reduction in the nonfederal share that results from the modification under subsection shall be credited toward the share of project costs to be paid by the amite river basin drainage and water conservation district. . sec.',\n",
       " '7. chesapeake city, maryland.',\n",
       " 'section 535 of the water resources development act of 1999 is amended by striking the city of chesapeake each place it appears and inserting chesapeake city.',\n",
       " 'sec.',\n",
       " '8. continuation of submission of certain reports by the secretary of the army.',\n",
       " 'recommendations of inland waterways users board.',\n",
       " 'section 302 of the water resources development act of 1986  is amended in the last sentence by striking the and inserting notwithstanding section 3003 of public law 10466 , the.',\n",
       " 'list of authorized but unfunded studies.',\n",
       " 'section 710 of the water resources development act of 1986  is amended in the first sentence by striking not and inserting notwithstanding section 3003 of public law 10466 , not.',\n",
       " 'reports on participation of minority groups and minorityowned firms in mississippi rivergulf outlet feature.',\n",
       " 'section 844 of the water resources development act of 1986 is amended in the second sentence by striking the and inserting notwithstanding section 3003 of public law 10466 , the.',\n",
       " 'list of authorized but unfunded projects.',\n",
       " 'section 1001 of the water resources development act of 1986  is amended in the first sentence by striking every and inserting notwithstanding section 3003 of public law 10466 , every.',\n",
       " 'sec.',\n",
       " '9. authorizations for program previously and currently funded.',\n",
       " 'program authorization.',\n",
       " 'the program described in subsection is hereby authorized.',\n",
       " 'authorization of appropriations.',\n",
       " 'funds are hereby authorized to be appropriated for the department of transportation for the program authorized in subsection in amounts as follows fiscal year 2000. for fiscal year 2000, 10,000,000. fiscal year 2001. for fiscal year 2001, 10,000,000. fiscal year 2002. for fiscal year 2002, 7,000,000. applicability.',\n",
       " 'the program referred to in subsection is the program for which funds appropriated in title i of public law 10669 under the heading federal railroad administration are available for obligation upon the enactment of legislation authorizing the program.',\n",
       " 'speaker of the house of representatives.',\n",
       " 'vice president of the united states and president of the senate.']"
      ]
     },
     "execution_count": 67,
     "metadata": {},
     "output_type": "execute_result"
    }
   ],
   "source": [
    "preprocessed"
   ]
  },
  {
   "cell_type": "code",
   "execution_count": 66,
   "id": "a29e8547",
   "metadata": {},
   "outputs": [
    {
     "data": {
      "text/plain": [
       "' section 1. environmental infrastructure. sec. sec. 3. delaware river, pennsylvania and delaware. sec. 4. project reauthorizations. sec. 5. shore protection. sec. 6. comite river, louisiana. sec. 8. continuation of submission of certain reports by the secretary of the army. recommendations of inland waterways users board. list of authorized but unfunded studies. sec. authorization of appropriations. speaker of the house of representatives. vice president of the united states and president of the senate.'"
      ]
     },
     "execution_count": 66,
     "metadata": {},
     "output_type": "execute_result"
    }
   ],
   "source": [
    "summary"
   ]
  },
  {
   "cell_type": "markdown",
   "id": "46a11e74",
   "metadata": {},
   "source": [
    "# Evaluate the Summary"
   ]
  },
  {
   "cell_type": "code",
   "execution_count": null,
   "id": "b88896ef",
   "metadata": {},
   "outputs": [],
   "source": [
    "from rouge import Rouge\n",
    "rouge = Rouge()\n",
    "\n",
    "scores = rouge.get_scores(result, text)"
   ]
  }
 ],
 "metadata": {
  "kernelspec": {
   "display_name": "Python 3 (ipykernel)",
   "language": "python",
   "name": "python3"
  },
  "language_info": {
   "codemirror_mode": {
    "name": "ipython",
    "version": 3
   },
   "file_extension": ".py",
   "mimetype": "text/x-python",
   "name": "python",
   "nbconvert_exporter": "python",
   "pygments_lexer": "ipython3",
   "version": "3.9.7"
  }
 },
 "nbformat": 4,
 "nbformat_minor": 5
}
