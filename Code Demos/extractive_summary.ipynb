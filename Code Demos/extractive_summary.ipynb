{
 "cells": [
  {
   "cell_type": "code",
   "execution_count": 1,
   "id": "024e9fc3",
   "metadata": {},
   "outputs": [],
   "source": [
    "from tf_idf_my_func import *"
   ]
  },
  {
   "cell_type": "code",
   "execution_count": 2,
   "id": "574a210e",
   "metadata": {},
   "outputs": [],
   "source": [
    "import pandas as pd\n",
    "from rouge import Rouge"
   ]
  },
  {
   "cell_type": "code",
   "execution_count": 3,
   "id": "62ec2f31",
   "metadata": {
    "scrolled": true
   },
   "outputs": [
    {
     "name": "stderr",
     "output_type": "stream",
     "text": [
      "Found cached dataset billsum (/Users/emilygong/.cache/huggingface/datasets/billsum/default/3.0.0/75cf1719d38d6553aa0e0714c393c74579b083ae6e164b2543684e3e92e0c4cc)\n"
     ]
    },
    {
     "data": {
      "application/vnd.jupyter.widget-view+json": {
       "model_id": "1474954c99114429a4690dea8b4197b2",
       "version_major": 2,
       "version_minor": 0
      },
      "text/plain": [
       "  0%|          | 0/3 [00:00<?, ?it/s]"
      ]
     },
     "metadata": {},
     "output_type": "display_data"
    }
   ],
   "source": [
    "dataset = load_dataset(\"billsum\")"
   ]
  },
  {
   "cell_type": "code",
   "execution_count": 4,
   "id": "2dfdc0c9",
   "metadata": {},
   "outputs": [],
   "source": [
    "train = pd.DataFrame(dataset['train'] )\n",
    "train = train.dropna()\n",
    "test = pd.DataFrame(dataset['test'] )\n",
    "test = test.dropna()\n",
    "ca_test = pd.DataFrame(dataset['ca_test'] )\n",
    "ca_test = ca_test.dropna()"
   ]
  },
  {
   "cell_type": "markdown",
   "id": "81e95ceb",
   "metadata": {},
   "source": [
    "# Preprocessing test dataset"
   ]
  },
  {
   "cell_type": "code",
   "execution_count": 5,
   "id": "2a37118a",
   "metadata": {},
   "outputs": [],
   "source": [
    "example = test.iat[0, 0]"
   ]
  },
  {
   "cell_type": "code",
   "execution_count": 6,
   "id": "4b0765e1",
   "metadata": {},
   "outputs": [],
   "source": [
    "example_sentences = split_right(example)"
   ]
  },
  {
   "cell_type": "code",
   "execution_count": 7,
   "id": "23f7cffe",
   "metadata": {},
   "outputs": [],
   "source": [
    "cleaned_sentences = []\n",
    "for i in range(len(example_sentences)):\n",
    "    cleaned_sentences.append(preprocessing(example_sentences[i]))"
   ]
  },
  {
   "cell_type": "code",
   "execution_count": 8,
   "id": "528d6dcc",
   "metadata": {},
   "outputs": [],
   "source": [
    "for i in range(len(cleaned_sentences)):\n",
    "    cleaned_sentences[i] = delete_leading_white_spaces(cleaned_sentences[i])"
   ]
  },
  {
   "cell_type": "code",
   "execution_count": 9,
   "id": "f08b50e5",
   "metadata": {
    "scrolled": true
   },
   "outputs": [],
   "source": [
    "stemmed_sentences = stemming(cleaned_sentences)"
   ]
  },
  {
   "cell_type": "markdown",
   "id": "b8ad0a99",
   "metadata": {},
   "source": [
    "# TF-IDF"
   ]
  },
  {
   "cell_type": "markdown",
   "id": "859fee19",
   "metadata": {},
   "source": [
    "## For each document, create a frequency matrix"
   ]
  },
  {
   "cell_type": "code",
   "execution_count": 10,
   "id": "c3215c87",
   "metadata": {
    "scrolled": true
   },
   "outputs": [],
   "source": [
    "freq_matrix = create_freq_matrix(example_sentences, stemmed_sentences)"
   ]
  },
  {
   "cell_type": "markdown",
   "id": "6cab7161",
   "metadata": {},
   "source": [
    "## Term Frequency TF\n",
    "TF(t) = (Number of times term t appears in a sentence) / (Total number of terms in the sentence)"
   ]
  },
  {
   "cell_type": "code",
   "execution_count": 11,
   "id": "0caabe4f",
   "metadata": {},
   "outputs": [],
   "source": [
    "tf_matrix = tf(freq_matrix)"
   ]
  },
  {
   "cell_type": "markdown",
   "id": "f33ceec1",
   "metadata": {},
   "source": [
    "## Inverse Document Frequency IDF\n",
    "\n",
    "First, we calculate, “how many sentences contain a word”, Let’s call it Documents per words matrix.\n",
    "\n",
    "Then, we apply the formula IDF(t) = log_e(Total number of sentences / Number of sentences with term t in it)"
   ]
  },
  {
   "cell_type": "code",
   "execution_count": 12,
   "id": "2950f52d",
   "metadata": {
    "scrolled": true
   },
   "outputs": [],
   "source": [
    "nums_sent_per_word = num_sent_per_word(stemmed_sentences)"
   ]
  },
  {
   "cell_type": "code",
   "execution_count": 13,
   "id": "bb61e827",
   "metadata": {},
   "outputs": [],
   "source": [
    "idf_matrix = idf(freq_matrix, nums_sent_per_word, len(stemmed_sentences))"
   ]
  },
  {
   "cell_type": "markdown",
   "id": "c3534d94",
   "metadata": {},
   "source": [
    "## TF-IDF\n",
    "\n",
    "For the tf and idf values associated with each stem, multiply tf * idf"
   ]
  },
  {
   "cell_type": "code",
   "execution_count": 14,
   "id": "3b0f530c",
   "metadata": {},
   "outputs": [],
   "source": [
    "tf_idf_matrix = tf_idf(tf_matrix, idf_matrix)"
   ]
  },
  {
   "cell_type": "markdown",
   "id": "ad23383d",
   "metadata": {},
   "source": [
    "## Score the Sentences & Find Avg Score"
   ]
  },
  {
   "cell_type": "code",
   "execution_count": 15,
   "id": "b18e7c63",
   "metadata": {},
   "outputs": [],
   "source": [
    "sentences_score = score_sentences(tf_idf_matrix)"
   ]
  },
  {
   "cell_type": "code",
   "execution_count": 16,
   "id": "ac1d1a1f",
   "metadata": {},
   "outputs": [],
   "source": [
    "threshold = average_sent_score(sentences_score)"
   ]
  },
  {
   "cell_type": "markdown",
   "id": "92b733f4",
   "metadata": {},
   "source": [
    "# Generate Summary"
   ]
  },
  {
   "cell_type": "code",
   "execution_count": 17,
   "id": "bf234a48",
   "metadata": {},
   "outputs": [],
   "source": [
    "summary = generate_summary(example_sentences, sentences_score, threshold)"
   ]
  },
  {
   "cell_type": "markdown",
   "id": "e88c4716",
   "metadata": {},
   "source": [
    "# Everythin in 1 function"
   ]
  },
  {
   "cell_type": "code",
   "execution_count": 18,
   "id": "50028f6c",
   "metadata": {},
   "outputs": [],
   "source": [
    "final = everything_generate_summary(example, 1)"
   ]
  },
  {
   "cell_type": "markdown",
   "id": "46a11e74",
   "metadata": {},
   "source": [
    "# Evaluate the Summary with Rouge"
   ]
  },
  {
   "cell_type": "code",
   "execution_count": 19,
   "id": "b88896ef",
   "metadata": {},
   "outputs": [],
   "source": [
    "rouge = Rouge()\n",
    "\n",
    "scores = rouge.get_scores(final, example)"
   ]
  },
  {
   "cell_type": "code",
   "execution_count": 20,
   "id": "6544664a",
   "metadata": {},
   "outputs": [
    {
     "data": {
      "text/plain": [
       "[{'rouge-1': {'r': 0.2032520325203252, 'p': 1.0, 'f': 0.33783783503013154},\n",
       "  'rouge-2': {'r': 0.14309210526315788,\n",
       "   'p': 0.8787878787878788,\n",
       "   'f': 0.2461103229098388},\n",
       "  'rouge-l': {'r': 0.2032520325203252, 'p': 1.0, 'f': 0.33783783503013154}}]"
      ]
     },
     "execution_count": 20,
     "metadata": {},
     "output_type": "execute_result"
    }
   ],
   "source": [
    "scores"
   ]
  },
  {
   "cell_type": "markdown",
   "id": "dca92f8d",
   "metadata": {},
   "source": [
    "# Reference\n",
    "\n",
    "* https://towardsdatascience.com/text-summarization-using-tf-idf-e64a0644ace3\n",
    "* https://en.wikipedia.org/wiki/Tf%E2%80%93idf"
   ]
  }
 ],
 "metadata": {
  "kernelspec": {
   "display_name": "Python 3 (ipykernel)",
   "language": "python",
   "name": "python3"
  },
  "language_info": {
   "codemirror_mode": {
    "name": "ipython",
    "version": 3
   },
   "file_extension": ".py",
   "mimetype": "text/x-python",
   "name": "python",
   "nbconvert_exporter": "python",
   "pygments_lexer": "ipython3",
   "version": "3.9.7"
  }
 },
 "nbformat": 4,
 "nbformat_minor": 5
}
