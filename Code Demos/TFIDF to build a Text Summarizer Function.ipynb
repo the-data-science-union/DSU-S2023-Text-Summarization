{
 "cells": [
  {
   "cell_type": "markdown",
   "id": "2533692d",
   "metadata": {},
   "source": [
    "Let's use TFIDF to build a basic text summarization function. This is just a concept that will be improved upon later."
   ]
  },
  {
   "cell_type": "markdown",
   "id": "5a335a9c",
   "metadata": {},
   "source": [
    "Importing relevant packages"
   ]
  },
  {
   "cell_type": "code",
   "execution_count": 1,
   "id": "6d811479",
   "metadata": {},
   "outputs": [],
   "source": [
    "# for TfidfVectorizer\n",
    "from sklearn.feature_extraction.text import TfidfVectorizer\n",
    "\n",
    "# allows us to compute the cosine similarity between two vectors\n",
    "from sklearn.metrics.pairwise import cosine_similarity\n",
    "\n",
    "# importing nlargest to return the n largest elements from an iterable in descending order.\n",
    "from heapq import nlargest\n",
    "\n",
    "from nltk.tokenize import sent_tokenize"
   ]
  },
  {
   "cell_type": "markdown",
   "id": "fb8df44e",
   "metadata": {},
   "source": [
    "Suppose we want to make a function that takes in a string (text) and an integer (n) and wants us to return the most relevant n sentences. For example:"
   ]
  },
  {
   "cell_type": "code",
   "execution_count": 2,
   "id": "813fdb5b",
   "metadata": {},
   "outputs": [],
   "source": [
    "# generated from chatGPT\n",
    "text = '''Having a bad day is an inevitable part of life that we all experience at some point. It's one of those days where everything seems to go wrong, leaving us feeling frustrated, overwhelmed, and emotionally drained. Whether it's a series of unfortunate events or simply waking up on the wrong side of the bed, a bad day can cast a shadow over our mood and outlook.\n",
    "From the moment we open our eyes, the signs of a bad day start to manifest. The alarm clock fails to go off, resulting in a frantic rush to get ready for the day ahead. Breakfast burns, leaving a lingering smell of charred toast in the air. Rushing out the door, we're met with unexpected traffic or delayed public transportation, further exacerbating the sense of being behind schedule.\n",
    "Once at work or school, tasks and responsibilities pile up, seeming insurmountable. Miscommunications and conflicts arise, adding to the mounting stress. The day progresses in a seemingly endless cycle of setbacks, small annoyances, and disappointments. Technology malfunctions, important documents go missing, and unforeseen obstacles arise at every turn.\n",
    "Amidst the chaos, personal struggles and emotional burdens may weigh heavily on our minds. Coping with personal issues while simultaneously navigating the challenges of the day can feel overwhelming. Negative thoughts and self-doubt creep in, intensifying the feeling of having a bad day.\n",
    "Physically, exhaustion sets in as the day drags on, making it difficult to focus or find motivation. Even the simplest tasks become arduous, and the desire to retreat and escape from the world grows stronger. Social interactions may feel strained, as our own negative emotions color our interactions with others.\n",
    "As the day draws to a close, we may find solace in the knowledge that tomorrow is a fresh start—a chance to leave the bad day behind and embrace the possibility of a better one. Reflecting on the day's challenges can provide insights into areas for growth and improvement, allowing us to learn from the experience.\n",
    "Though having a bad day can be disheartening, it is important to remember that it is just a passing phase. Life is a mixture of ups and downs, and bad days serve as reminders of our resilience and ability to overcome adversity. By practicing self-care, seeking support from loved ones, and maintaining a positive mindset, we can weather the storm and look forward to brighter days ahead.'''"
   ]
  },
  {
   "cell_type": "code",
   "execution_count": 3,
   "id": "fc80be56",
   "metadata": {},
   "outputs": [],
   "source": [
    "# Let's check out a summary with the top 5 sentences\n",
    "n = 5"
   ]
  },
  {
   "cell_type": "code",
   "execution_count": 4,
   "id": "e4454253",
   "metadata": {
    "scrolled": true
   },
   "outputs": [
    {
     "data": {
      "text/plain": [
       "['Having a bad day is an inevitable part of life that we all experience at some point.',\n",
       " \"It's one of those days where everything seems to go wrong, leaving us feeling frustrated, overwhelmed, and emotionally drained.\",\n",
       " \"Whether it's a series of unfortunate events or simply waking up on the wrong side of the bed, a bad day can cast a shadow over our mood and outlook.\",\n",
       " 'From the moment we open our eyes, the signs of a bad day start to manifest.',\n",
       " 'The alarm clock fails to go off, resulting in a frantic rush to get ready for the day ahead.',\n",
       " 'Breakfast burns, leaving a lingering smell of charred toast in the air.',\n",
       " \"Rushing out the door, we're met with unexpected traffic or delayed public transportation, further exacerbating the sense of being behind schedule.\",\n",
       " 'Once at work or school, tasks and responsibilities pile up, seeming insurmountable.',\n",
       " 'Miscommunications and conflicts arise, adding to the mounting stress.',\n",
       " 'The day progresses in a seemingly endless cycle of setbacks, small annoyances, and disappointments.',\n",
       " 'Technology malfunctions, important documents go missing, and unforeseen obstacles arise at every turn.',\n",
       " 'Amidst the chaos, personal struggles and emotional burdens may weigh heavily on our minds.',\n",
       " 'Coping with personal issues while simultaneously navigating the challenges of the day can feel overwhelming.',\n",
       " 'Negative thoughts and self-doubt creep in, intensifying the feeling of having a bad day.',\n",
       " 'Physically, exhaustion sets in as the day drags on, making it difficult to focus or find motivation.',\n",
       " 'Even the simplest tasks become arduous, and the desire to retreat and escape from the world grows stronger.',\n",
       " 'Social interactions may feel strained, as our own negative emotions color our interactions with others.',\n",
       " 'As the day draws to a close, we may find solace in the knowledge that tomorrow is a fresh start—a chance to leave the bad day behind and embrace the possibility of a better one.',\n",
       " \"Reflecting on the day's challenges can provide insights into areas for growth and improvement, allowing us to learn from the experience.\",\n",
       " 'Though having a bad day can be disheartening, it is important to remember that it is just a passing phase.',\n",
       " 'Life is a mixture of ups and downs, and bad days serve as reminders of our resilience and ability to overcome adversity.',\n",
       " 'By practicing self-care, seeking support from loved ones, and maintaining a positive mindset, we can weather the storm and look forward to brighter days ahead.']"
      ]
     },
     "execution_count": 4,
     "metadata": {},
     "output_type": "execute_result"
    }
   ],
   "source": [
    "#sentence tokenizer\n",
    "sentences = sent_tokenize(text)\n",
    "sentences"
   ]
  },
  {
   "cell_type": "markdown",
   "id": "564f18af",
   "metadata": {},
   "source": [
    "Here we are creating the Tfidf matrix"
   ]
  },
  {
   "cell_type": "code",
   "execution_count": 5,
   "id": "ed0ff11f",
   "metadata": {},
   "outputs": [],
   "source": [
    "vectorizer = TfidfVectorizer(stop_words='english')\n",
    "tfidf_matrix = vectorizer.fit_transform(sentences)"
   ]
  },
  {
   "cell_type": "markdown",
   "id": "5decf5a7",
   "metadata": {},
   "source": [
    "Using cosine similarity, we can find the sentences that are most similar to the entire body of text"
   ]
  },
  {
   "cell_type": "code",
   "execution_count": 6,
   "id": "6cce4f14",
   "metadata": {
    "scrolled": true
   },
   "outputs": [],
   "source": [
    "scores = cosine_similarity(tfidf_matrix[-1], tfidf_matrix[:-1])[0]"
   ]
  },
  {
   "cell_type": "markdown",
   "id": "78d21f5a",
   "metadata": {},
   "source": [
    "Using the nlargest function, we can find the n sentences that are most relevant to the text"
   ]
  },
  {
   "cell_type": "code",
   "execution_count": 7,
   "id": "3956aeff",
   "metadata": {},
   "outputs": [
    {
     "data": {
      "text/plain": [
       "[13, 4, 1, 20, 0]"
      ]
     },
     "execution_count": 7,
     "metadata": {},
     "output_type": "execute_result"
    }
   ],
   "source": [
    "summary_sentences = nlargest(n, range(len(scores)), key=scores.__getitem__)\n",
    "summary_sentences"
   ]
  },
  {
   "cell_type": "markdown",
   "id": "9242807f",
   "metadata": {},
   "source": [
    "Finally we can append each sentence in the original order that it was in so that the summary can maintain meaning"
   ]
  },
  {
   "cell_type": "code",
   "execution_count": 8,
   "id": "ef697061",
   "metadata": {},
   "outputs": [
    {
     "data": {
      "text/plain": [
       "[0, 1, 4, 13, 20]"
      ]
     },
     "execution_count": 8,
     "metadata": {},
     "output_type": "execute_result"
    }
   ],
   "source": [
    "sorted(summary_sentences)"
   ]
  },
  {
   "cell_type": "code",
   "execution_count": 9,
   "id": "991a09ae",
   "metadata": {},
   "outputs": [],
   "source": [
    "result_vector = []\n",
    "for i in sorted(summary_sentences):\n",
    "    result_vector.append(sentences[i])\n",
    "result = \" \".join(result_vector)"
   ]
  },
  {
   "cell_type": "code",
   "execution_count": 10,
   "id": "cf42909b",
   "metadata": {
    "scrolled": true
   },
   "outputs": [
    {
     "data": {
      "text/plain": [
       "\"Having a bad day is an inevitable part of life that we all experience at some point. It's one of those days where everything seems to go wrong, leaving us feeling frustrated, overwhelmed, and emotionally drained. The alarm clock fails to go off, resulting in a frantic rush to get ready for the day ahead. Negative thoughts and self-doubt creep in, intensifying the feeling of having a bad day. Life is a mixture of ups and downs, and bad days serve as reminders of our resilience and ability to overcome adversity.\""
      ]
     },
     "execution_count": 10,
     "metadata": {},
     "output_type": "execute_result"
    }
   ],
   "source": [
    "result"
   ]
  },
  {
   "cell_type": "markdown",
   "id": "eb00fc26",
   "metadata": {},
   "source": [
    "Using Rogue to evaluate accuracy"
   ]
  },
  {
   "cell_type": "code",
   "execution_count": 11,
   "id": "b373c74c",
   "metadata": {},
   "outputs": [],
   "source": [
    "from rouge import Rouge\n",
    "rouge = Rouge()\n",
    "\n",
    "scores = rouge.get_scores(result, text)\n"
   ]
  },
  {
   "cell_type": "markdown",
   "id": "59df5b8b",
   "metadata": {},
   "source": [
    "An \"F\" score for Rouge-L ranges from 0 to 1, with 1 being the highest"
   ]
  },
  {
   "cell_type": "code",
   "execution_count": 12,
   "id": "e8ee1b4f",
   "metadata": {
    "scrolled": false
   },
   "outputs": [
    {
     "data": {
      "text/plain": [
       "0.4358974324884944"
      ]
     },
     "execution_count": 12,
     "metadata": {},
     "output_type": "execute_result"
    }
   ],
   "source": [
    "scores[0]['rouge-l']['f']"
   ]
  },
  {
   "cell_type": "code",
   "execution_count": 13,
   "id": "5b263b69",
   "metadata": {},
   "outputs": [
    {
     "data": {
      "text/plain": [
       "['Having a bad day is an inevitable part of life that we all experience at some point.',\n",
       " \"It's one of those days where everything seems to go wrong, leaving us feeling frustrated, overwhelmed, and emotionally drained.\",\n",
       " \"Whether it's a series of unfortunate events or simply waking up on the wrong side of the bed, a bad day can cast a shadow over our mood and outlook.\",\n",
       " 'From the moment we open our eyes, the signs of a bad day start to manifest.',\n",
       " 'The alarm clock fails to go off, resulting in a frantic rush to get ready for the day ahead.',\n",
       " 'Breakfast burns, leaving a lingering smell of charred toast in the air.',\n",
       " \"Rushing out the door, we're met with unexpected traffic or delayed public transportation, further exacerbating the sense of being behind schedule.\",\n",
       " 'Once at work or school, tasks and responsibilities pile up, seeming insurmountable.',\n",
       " 'Miscommunications and conflicts arise, adding to the mounting stress.',\n",
       " 'The day progresses in a seemingly endless cycle of setbacks, small annoyances, and disappointments.',\n",
       " 'Technology malfunctions, important documents go missing, and unforeseen obstacles arise at every turn.',\n",
       " 'Amidst the chaos, personal struggles and emotional burdens may weigh heavily on our minds.',\n",
       " 'Coping with personal issues while simultaneously navigating the challenges of the day can feel overwhelming.',\n",
       " 'Negative thoughts and self-doubt creep in, intensifying the feeling of having a bad day.',\n",
       " 'Physically, exhaustion sets in as the day drags on, making it difficult to focus or find motivation.',\n",
       " 'Even the simplest tasks become arduous, and the desire to retreat and escape from the world grows stronger.',\n",
       " 'Social interactions may feel strained, as our own negative emotions color our interactions with others.',\n",
       " 'As the day draws to a close, we may find solace in the knowledge that tomorrow is a fresh start—a chance to leave the bad day behind and embrace the possibility of a better one.',\n",
       " \"Reflecting on the day's challenges can provide insights into areas for growth and improvement, allowing us to learn from the experience.\",\n",
       " 'Though having a bad day can be disheartening, it is important to remember that it is just a passing phase.',\n",
       " 'Life is a mixture of ups and downs, and bad days serve as reminders of our resilience and ability to overcome adversity.',\n",
       " 'By practicing self-care, seeking support from loved ones, and maintaining a positive mindset, we can weather the storm and look forward to brighter days ahead.']"
      ]
     },
     "execution_count": 13,
     "metadata": {},
     "output_type": "execute_result"
    }
   ],
   "source": [
    "sentences"
   ]
  },
  {
   "cell_type": "code",
   "execution_count": 14,
   "id": "659e1b26",
   "metadata": {},
   "outputs": [
    {
     "name": "stderr",
     "output_type": "stream",
     "text": [
      "Found cached dataset billsum (/Users/kevinhamakawa/.cache/huggingface/datasets/billsum/default/3.0.0/75cf1719d38d6553aa0e0714c393c74579b083ae6e164b2543684e3e92e0c4cc)\n"
     ]
    }
   ],
   "source": [
    "from datasets import load_dataset\n",
    "dataset = load_dataset(\"billsum\", split = \"test\")"
   ]
  },
  {
   "cell_type": "code",
   "execution_count": 15,
   "id": "5791209e",
   "metadata": {
    "scrolled": false
   },
   "outputs": [
    {
     "data": {
      "text/html": [
       "<div>\n",
       "<style scoped>\n",
       "    .dataframe tbody tr th:only-of-type {\n",
       "        vertical-align: middle;\n",
       "    }\n",
       "\n",
       "    .dataframe tbody tr th {\n",
       "        vertical-align: top;\n",
       "    }\n",
       "\n",
       "    .dataframe thead th {\n",
       "        text-align: right;\n",
       "    }\n",
       "</style>\n",
       "<table border=\"1\" class=\"dataframe\">\n",
       "  <thead>\n",
       "    <tr style=\"text-align: right;\">\n",
       "      <th></th>\n",
       "      <th>text</th>\n",
       "      <th>summary</th>\n",
       "      <th>title</th>\n",
       "    </tr>\n",
       "  </thead>\n",
       "  <tbody>\n",
       "    <tr>\n",
       "      <th>0</th>\n",
       "      <td>SECTION 1. ENVIRONMENTAL INFRASTRUCTURE.\\n\\n  ...</td>\n",
       "      <td>Amends the Water Resources Development Act of ...</td>\n",
       "      <td>To make technical corrections to the Water Res...</td>\n",
       "    </tr>\n",
       "    <tr>\n",
       "      <th>1</th>\n",
       "      <td>That this Act may be cited as the ``Federal Fo...</td>\n",
       "      <td>Federal Forage Fee Act of 1993 - Subjects graz...</td>\n",
       "      <td>Federal Forage Fee Act of 1993</td>\n",
       "    </tr>\n",
       "    <tr>\n",
       "      <th>2</th>\n",
       "      <td>SECTION 1. SHORT TITLE.\\n\\n    This Act may be...</td>\n",
       "      <td>.  Merchant Marine of World War II Congression...</td>\n",
       "      <td>Merchant Marine of World War II Congressional ...</td>\n",
       "    </tr>\n",
       "    <tr>\n",
       "      <th>3</th>\n",
       "      <td>SECTION 1. SHORT TITLE.\\n\\n    This Act may be...</td>\n",
       "      <td>Small Business Modernization Act of 2004 - Ame...</td>\n",
       "      <td>To amend the Internal Revenue Code of 1986 to ...</td>\n",
       "    </tr>\n",
       "    <tr>\n",
       "      <th>4</th>\n",
       "      <td>SECTION 1. SHORT TITLE.\\n\\n    This Act may be...</td>\n",
       "      <td>Fair Access to Investment Research Act of 2016...</td>\n",
       "      <td>Fair Access to Investment Research Act of 2016</td>\n",
       "    </tr>\n",
       "    <tr>\n",
       "      <th>...</th>\n",
       "      <td>...</td>\n",
       "      <td>...</td>\n",
       "      <td>...</td>\n",
       "    </tr>\n",
       "    <tr>\n",
       "      <th>3264</th>\n",
       "      <td>SECTION 1. PLACEMENT PROGRAMS FOR FEDERAL EMPL...</td>\n",
       "      <td>Public Servant Priority Placement Act of 1995 ...</td>\n",
       "      <td>Public Servant Priority Placement Act of 1995</td>\n",
       "    </tr>\n",
       "    <tr>\n",
       "      <th>3265</th>\n",
       "      <td>SECTION 1. SHORT TITLE.\\n\\n    This Act may be...</td>\n",
       "      <td>Sportsmanship in Hunting Act of 2008 - Amends ...</td>\n",
       "      <td>A bill to amend title 18, United States Code, ...</td>\n",
       "    </tr>\n",
       "    <tr>\n",
       "      <th>3266</th>\n",
       "      <td>SECTION 1. SHORT TITLE.\\n\\n    This Act may be...</td>\n",
       "      <td>Helping College Students Cross the Finish Line...</td>\n",
       "      <td>Helping College Students Cross the Finish Line...</td>\n",
       "    </tr>\n",
       "    <tr>\n",
       "      <th>3267</th>\n",
       "      <td>SECTION 1. SHORT TITLE.\\n\\n    This Act may be...</td>\n",
       "      <td>Makes proceeds from such conveyances available...</td>\n",
       "      <td>Texas National Forests Improvement Act of 2000</td>\n",
       "    </tr>\n",
       "    <tr>\n",
       "      <th>3268</th>\n",
       "      <td>SECTION 1. SHORT TITLE.\\n\\n    This Act may be...</td>\n",
       "      <td>Federal Power Asset Privatization Act of 1995 ...</td>\n",
       "      <td>Federal Power Asset Privatization Act of 1995</td>\n",
       "    </tr>\n",
       "  </tbody>\n",
       "</table>\n",
       "<p>3269 rows × 3 columns</p>\n",
       "</div>"
      ],
      "text/plain": [
       "                                                   text  \\\n",
       "0     SECTION 1. ENVIRONMENTAL INFRASTRUCTURE.\\n\\n  ...   \n",
       "1     That this Act may be cited as the ``Federal Fo...   \n",
       "2     SECTION 1. SHORT TITLE.\\n\\n    This Act may be...   \n",
       "3     SECTION 1. SHORT TITLE.\\n\\n    This Act may be...   \n",
       "4     SECTION 1. SHORT TITLE.\\n\\n    This Act may be...   \n",
       "...                                                 ...   \n",
       "3264  SECTION 1. PLACEMENT PROGRAMS FOR FEDERAL EMPL...   \n",
       "3265  SECTION 1. SHORT TITLE.\\n\\n    This Act may be...   \n",
       "3266  SECTION 1. SHORT TITLE.\\n\\n    This Act may be...   \n",
       "3267  SECTION 1. SHORT TITLE.\\n\\n    This Act may be...   \n",
       "3268  SECTION 1. SHORT TITLE.\\n\\n    This Act may be...   \n",
       "\n",
       "                                                summary  \\\n",
       "0     Amends the Water Resources Development Act of ...   \n",
       "1     Federal Forage Fee Act of 1993 - Subjects graz...   \n",
       "2     .  Merchant Marine of World War II Congression...   \n",
       "3     Small Business Modernization Act of 2004 - Ame...   \n",
       "4     Fair Access to Investment Research Act of 2016...   \n",
       "...                                                 ...   \n",
       "3264  Public Servant Priority Placement Act of 1995 ...   \n",
       "3265  Sportsmanship in Hunting Act of 2008 - Amends ...   \n",
       "3266  Helping College Students Cross the Finish Line...   \n",
       "3267  Makes proceeds from such conveyances available...   \n",
       "3268  Federal Power Asset Privatization Act of 1995 ...   \n",
       "\n",
       "                                                  title  \n",
       "0     To make technical corrections to the Water Res...  \n",
       "1                        Federal Forage Fee Act of 1993  \n",
       "2     Merchant Marine of World War II Congressional ...  \n",
       "3     To amend the Internal Revenue Code of 1986 to ...  \n",
       "4        Fair Access to Investment Research Act of 2016  \n",
       "...                                                 ...  \n",
       "3264      Public Servant Priority Placement Act of 1995  \n",
       "3265  A bill to amend title 18, United States Code, ...  \n",
       "3266  Helping College Students Cross the Finish Line...  \n",
       "3267     Texas National Forests Improvement Act of 2000  \n",
       "3268      Federal Power Asset Privatization Act of 1995  \n",
       "\n",
       "[3269 rows x 3 columns]"
      ]
     },
     "execution_count": 15,
     "metadata": {},
     "output_type": "execute_result"
    }
   ],
   "source": [
    "import pandas as pd\n",
    "dataset.set_format(\"pandas\")\n",
    "df = dataset[0:]\n",
    "df"
   ]
  },
  {
   "cell_type": "code",
   "execution_count": 16,
   "id": "b4b21455",
   "metadata": {},
   "outputs": [],
   "source": [
    "def summarizer(text, n):\n",
    "    sentences = sent_tokenize(text)\n",
    "    vectorizer = TfidfVectorizer(stop_words='english')\n",
    "    tfidf_matrix = vectorizer.fit_transform(sentences)\n",
    "    scores = cosine_similarity(tfidf_matrix[-1], tfidf_matrix[:-1])[0]\n",
    "    summary_sentences = nlargest(n, range(len(scores)), key=scores.__getitem__)\n",
    "    result_vector = []\n",
    "    for i in sorted(summary_sentences):\n",
    "        result_vector.append(sentences[i])\n",
    "    result = \" \".join(result_vector)\n",
    "    \n",
    "    return result"
   ]
  },
  {
   "cell_type": "code",
   "execution_count": 17,
   "id": "73e9e247",
   "metadata": {},
   "outputs": [
    {
     "data": {
      "text/plain": [
       "'SECTION 1. ENVIRONMENTAL INFRASTRUCTURE. (a) Jackson County, Mississippi.--Section 219 of the Water \\nResources Development Act of 1992 (106 Stat. 4835; 110 Stat. 3757) is \\namended--\\n        (1) in subsection (c), by striking paragraph (5) and inserting \\n    the following:\\n        ``(5) Jackson county, mississippi.--Provision of an alternative \\n    water supply and a project for the elimination or control of \\n    combined sewer overflows for Jackson County, Mississippi.'"
      ]
     },
     "execution_count": 17,
     "metadata": {},
     "output_type": "execute_result"
    }
   ],
   "source": [
    "summarizer(df[\"text\"][0], 5)"
   ]
  },
  {
   "cell_type": "code",
   "execution_count": 18,
   "id": "d7dc51a0",
   "metadata": {
    "scrolled": true
   },
   "outputs": [
    {
     "data": {
      "text/plain": [
       "\"Amends the Water Resources Development Act of 1999 to: (1) authorize appropriations for FY 1999 through 2009 for implementation of a long-term resource monitoring program with respect to the Upper Mississippi River Environmental Management Program (currently, such funding is designated for a program for the planning, construction, and evaluation of measures for fish and wildlife habitat rehabilitation and enhancement); (2) authorize the Secretary of the Army to carry out modifications to the navigation project for the Delaware River, Pennsylvania and Delaware, if such project as modified is technically sound, environmentally (currently, economically) acceptable, and economically justified; (3) subject certain previously deauthorized water resources development projects to the seven-year limitation governing project deauthorizations under the Act, with the exception of such a project for Indian River County, Florida; (4) except from a certain schedule of the non-Federal cost of the periodic nourishment of shore protection projects constructed after December 31, 1999, those projects for which a District Engineer's Report has been completed by such date;  (5) require that the project cooperation agreement for the Comite River Diversion Project for flood control include a provision that specifies that any reduction in the non-Federal share that results from certain modifications be credited toward the share of project costs to be paid by the Amite River Basin Drainage and Water Conservation District; (6) allow the Secretary to provide additional compensation to Chesapeake City, Maryland (currently, to the City of Chesapeake, Maryland) for damage to its water supply resulting from the Chesapeake and Delaware Canal Project; (7) provide for the submission of certain reports on water resources development projects by the Secretary, notwithstanding Federal reporting termination provisions; and (8) authorize and provide for an authorization of appropriations for the existing program for the safety and operations expenses of the Federal Railroad Administration, and make available for obligation funds currently appropriated for such program.\""
      ]
     },
     "execution_count": 18,
     "metadata": {},
     "output_type": "execute_result"
    }
   ],
   "source": [
    "df[\"summary\"][0]"
   ]
  },
  {
   "cell_type": "code",
   "execution_count": 25,
   "id": "a2b4772b",
   "metadata": {},
   "outputs": [
    {
     "name": "stderr",
     "output_type": "stream",
     "text": [
      "[nltk_data] Downloading package punkt to\n",
      "[nltk_data]     /Users/kevinhamakawa/nltk_data...\n",
      "[nltk_data]   Package punkt is already up-to-date!\n"
     ]
    },
    {
     "data": {
      "text/plain": [
       "True"
      ]
     },
     "execution_count": 25,
     "metadata": {},
     "output_type": "execute_result"
    }
   ],
   "source": [
    "import nltk\n",
    "from nltk.stem import PorterStemmer\n",
    "from nltk.tokenize import word_tokenize\n",
    "\n",
    "nltk.download('punkt')\n"
   ]
  },
  {
   "cell_type": "code",
   "execution_count": 26,
   "id": "0aadf728",
   "metadata": {},
   "outputs": [],
   "source": [
    "def summarizer(text, n):\n",
    "    sentences = sent_tokenize(text)\n",
    "    \n",
    "    stemmed_sentences = []\n",
    "    for sentence in sentences:\n",
    "        words = word_tokenize(sentence)\n",
    "        stemmed_words = [stemmer.stem(word) for word in words]\n",
    "        stemmed_sentence = ' '.join(stemmed_words)\n",
    "        stemmed_sentences.append(stemmed_sentence)\n",
    "        \n",
    "    \n",
    "    vectorizer = TfidfVectorizer(stop_words='english')\n",
    "    tfidf_matrix = vectorizer.fit_transform(stemmed_sentences)\n",
    "    scores = cosine_similarity(tfidf_matrix[-1], tfidf_matrix[:-1])[0]\n",
    "    summary_sentences = nlargest(n, range(len(scores)), key=scores.__getitem__)\n",
    "    result_vector = []\n",
    "    for i in sorted(summary_sentences):\n",
    "        result_vector.append(sentences[i])\n",
    "    result = \" \".join(result_vector)\n",
    "    \n",
    "    return result"
   ]
  },
  {
   "cell_type": "code",
   "execution_count": 27,
   "id": "84578c19",
   "metadata": {},
   "outputs": [
    {
     "data": {
      "text/plain": [
       "\"Having a bad day is an inevitable part of life that we all experience at some point. It's one of those days where everything seems to go wrong, leaving us feeling frustrated, overwhelmed, and emotionally drained. From the moment we open our eyes, the signs of a bad day start to manifest. The alarm clock fails to go off, resulting in a frantic rush to get ready for the day ahead. The day progresses in a seemingly endless cycle of setbacks, small annoyances, and disappointments. Coping with personal issues while simultaneously navigating the challenges of the day can feel overwhelming. Negative thoughts and self-doubt creep in, intensifying the feeling of having a bad day. Physically, exhaustion sets in as the day drags on, making it difficult to focus or find motivation. As the day draws to a close, we may find solace in the knowledge that tomorrow is a fresh start—a chance to leave the bad day behind and embrace the possibility of a better one. Though having a bad day can be disheartening, it is important to remember that it is just a passing phase.\""
      ]
     },
     "execution_count": 27,
     "metadata": {},
     "output_type": "execute_result"
    }
   ],
   "source": [
    "summarizer(text, 10)"
   ]
  },
  {
   "cell_type": "code",
   "execution_count": null,
   "id": "eecea17e",
   "metadata": {},
   "outputs": [],
   "source": []
  }
 ],
 "metadata": {
  "kernelspec": {
   "display_name": "Python 3",
   "language": "python",
   "name": "python3"
  },
  "language_info": {
   "codemirror_mode": {
    "name": "ipython",
    "version": 3
   },
   "file_extension": ".py",
   "mimetype": "text/x-python",
   "name": "python",
   "nbconvert_exporter": "python",
   "pygments_lexer": "ipython3",
   "version": "3.8.8"
  }
 },
 "nbformat": 4,
 "nbformat_minor": 5
}
