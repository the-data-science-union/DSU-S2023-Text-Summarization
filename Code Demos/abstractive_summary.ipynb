{
 "cells": [
  {
   "cell_type": "code",
   "execution_count": 64,
   "id": "574a210e",
   "metadata": {},
   "outputs": [],
   "source": [
    "import pandas as pd\n",
    "from nltk.tokenize import word_tokenize\n",
    "en_stopwords = nltk.corpus.stopwords.words('english')"
   ]
  },
  {
   "cell_type": "code",
   "execution_count": 1,
   "id": "62ec2f31",
   "metadata": {
    "collapsed": true
   },
   "outputs": [
    {
     "data": {
      "application/vnd.jupyter.widget-view+json": {
       "model_id": "b21092f290fd4773bbfb803ff2b5b8e4",
       "version_major": 2,
       "version_minor": 0
      },
      "text/plain": [
       "Downloading builder script:   0%|          | 0.00/3.66k [00:00<?, ?B/s]"
      ]
     },
     "metadata": {},
     "output_type": "display_data"
    },
    {
     "data": {
      "application/vnd.jupyter.widget-view+json": {
       "model_id": "9892f49da5d14f029a03486fc7b75029",
       "version_major": 2,
       "version_minor": 0
      },
      "text/plain": [
       "Downloading metadata:   0%|          | 0.00/1.80k [00:00<?, ?B/s]"
      ]
     },
     "metadata": {},
     "output_type": "display_data"
    },
    {
     "data": {
      "application/vnd.jupyter.widget-view+json": {
       "model_id": "3ac9e8489381452ba1b834ce5db71475",
       "version_major": 2,
       "version_minor": 0
      },
      "text/plain": [
       "Downloading readme:   0%|          | 0.00/6.70k [00:00<?, ?B/s]"
      ]
     },
     "metadata": {},
     "output_type": "display_data"
    },
    {
     "name": "stdout",
     "output_type": "stream",
     "text": [
      "Downloading and preparing dataset billsum/default to /Users/emilygong/.cache/huggingface/datasets/billsum/default/3.0.0/75cf1719d38d6553aa0e0714c393c74579b083ae6e164b2543684e3e92e0c4cc...\n"
     ]
    },
    {
     "data": {
      "application/vnd.jupyter.widget-view+json": {
       "model_id": "b633e6ceadf148d3b6a938be54fafa04",
       "version_major": 2,
       "version_minor": 0
      },
      "text/plain": [
       "Downloading data:   0%|          | 0.00/67.3M [00:00<?, ?B/s]"
      ]
     },
     "metadata": {},
     "output_type": "display_data"
    },
    {
     "data": {
      "application/vnd.jupyter.widget-view+json": {
       "model_id": "",
       "version_major": 2,
       "version_minor": 0
      },
      "text/plain": [
       "Generating train split:   0%|          | 0/18949 [00:00<?, ? examples/s]"
      ]
     },
     "metadata": {},
     "output_type": "display_data"
    },
    {
     "data": {
      "application/vnd.jupyter.widget-view+json": {
       "model_id": "",
       "version_major": 2,
       "version_minor": 0
      },
      "text/plain": [
       "Generating test split:   0%|          | 0/3269 [00:00<?, ? examples/s]"
      ]
     },
     "metadata": {},
     "output_type": "display_data"
    },
    {
     "data": {
      "application/vnd.jupyter.widget-view+json": {
       "model_id": "",
       "version_major": 2,
       "version_minor": 0
      },
      "text/plain": [
       "Generating ca_test split:   0%|          | 0/1237 [00:00<?, ? examples/s]"
      ]
     },
     "metadata": {},
     "output_type": "display_data"
    },
    {
     "name": "stdout",
     "output_type": "stream",
     "text": [
      "Dataset billsum downloaded and prepared to /Users/emilygong/.cache/huggingface/datasets/billsum/default/3.0.0/75cf1719d38d6553aa0e0714c393c74579b083ae6e164b2543684e3e92e0c4cc. Subsequent calls will reuse this data.\n"
     ]
    },
    {
     "data": {
      "application/vnd.jupyter.widget-view+json": {
       "model_id": "2d161ab6e4b44328b63316ef28680f41",
       "version_major": 2,
       "version_minor": 0
      },
      "text/plain": [
       "  0%|          | 0/3 [00:00<?, ?it/s]"
      ]
     },
     "metadata": {},
     "output_type": "display_data"
    }
   ],
   "source": [
    "from datasets import load_dataset\n",
    "\n",
    "dataset = load_dataset(\"billsum\")"
   ]
  },
  {
   "cell_type": "code",
   "execution_count": null,
   "id": "ef0a47e1",
   "metadata": {},
   "outputs": [],
   "source": [
    "from transformers import AutoTokenizer, AutoModelForSeq2SeqLM\n",
    "\n",
    "tokenizer = AutoTokenizer.from_pretrained(\"google/pegasus-xsum\")\n",
    "\n",
    "model = AutoModelForSeq2SeqLM.from_pretrained(\"google/pegasus-xsum\")"
   ]
  },
  {
   "cell_type": "code",
   "execution_count": 8,
   "id": "8f2ec164",
   "metadata": {},
   "outputs": [
    {
     "data": {
      "text/plain": [
       "DatasetDict({\n",
       "    train: Dataset({\n",
       "        features: ['text', 'summary', 'title'],\n",
       "        num_rows: 18949\n",
       "    })\n",
       "    test: Dataset({\n",
       "        features: ['text', 'summary', 'title'],\n",
       "        num_rows: 3269\n",
       "    })\n",
       "    ca_test: Dataset({\n",
       "        features: ['text', 'summary', 'title'],\n",
       "        num_rows: 1237\n",
       "    })\n",
       "})"
      ]
     },
     "execution_count": 8,
     "metadata": {},
     "output_type": "execute_result"
    }
   ],
   "source": [
    "dataset"
   ]
  },
  {
   "cell_type": "code",
   "execution_count": 11,
   "id": "2dfdc0c9",
   "metadata": {},
   "outputs": [],
   "source": [
    "train = pd.DataFrame(dataset['train'] )\n",
    "train = train.dropna()\n",
    "test = pd.DataFrame(dataset['test'] )\n",
    "test = test.dropna()\n",
    "ca_test = pd.DataFrame(dataset['ca_test'] )\n",
    "ca_test = ca_test.dropna()"
   ]
  },
  {
   "cell_type": "code",
   "execution_count": 12,
   "id": "78cbc6f1",
   "metadata": {},
   "outputs": [
    {
     "data": {
      "text/html": [
       "<div>\n",
       "<style scoped>\n",
       "    .dataframe tbody tr th:only-of-type {\n",
       "        vertical-align: middle;\n",
       "    }\n",
       "\n",
       "    .dataframe tbody tr th {\n",
       "        vertical-align: top;\n",
       "    }\n",
       "\n",
       "    .dataframe thead th {\n",
       "        text-align: right;\n",
       "    }\n",
       "</style>\n",
       "<table border=\"1\" class=\"dataframe\">\n",
       "  <thead>\n",
       "    <tr style=\"text-align: right;\">\n",
       "      <th></th>\n",
       "      <th>text</th>\n",
       "      <th>summary</th>\n",
       "      <th>title</th>\n",
       "    </tr>\n",
       "  </thead>\n",
       "  <tbody>\n",
       "    <tr>\n",
       "      <th>0</th>\n",
       "      <td>SECTION 1. LIABILITY OF BUSINESS ENTITIES PROV...</td>\n",
       "      <td>Shields a business entity from civil liability...</td>\n",
       "      <td>A bill to limit the civil liability of busines...</td>\n",
       "    </tr>\n",
       "    <tr>\n",
       "      <th>1</th>\n",
       "      <td>SECTION 1. SHORT TITLE.\\n\\n    This Act may be...</td>\n",
       "      <td>Human Rights Information Act - Requires certai...</td>\n",
       "      <td>Human Rights Information Act</td>\n",
       "    </tr>\n",
       "    <tr>\n",
       "      <th>2</th>\n",
       "      <td>SECTION 1. SHORT TITLE.\\n\\n    This Act may be...</td>\n",
       "      <td>Jackie Robinson Commemorative Coin Act - Direc...</td>\n",
       "      <td>Jackie Robinson Commemorative Coin Act</td>\n",
       "    </tr>\n",
       "    <tr>\n",
       "      <th>3</th>\n",
       "      <td>SECTION 1. NONRECOGNITION OF GAIN WHERE ROLLOV...</td>\n",
       "      <td>Amends the Internal Revenue Code to provide (t...</td>\n",
       "      <td>To amend the Internal Revenue Code to provide ...</td>\n",
       "    </tr>\n",
       "    <tr>\n",
       "      <th>4</th>\n",
       "      <td>SECTION 1. SHORT TITLE.\\n\\n    This Act may be...</td>\n",
       "      <td>Native American Energy Act - (Sec. 3) Amends t...</td>\n",
       "      <td>Native American Energy Act</td>\n",
       "    </tr>\n",
       "    <tr>\n",
       "      <th>...</th>\n",
       "      <td>...</td>\n",
       "      <td>...</td>\n",
       "      <td>...</td>\n",
       "    </tr>\n",
       "    <tr>\n",
       "      <th>18944</th>\n",
       "      <td>SECTION 1. SHORT TITLE.\\n\\n    This Act may be...</td>\n",
       "      <td>District of Columbia Economic Recovery Act - A...</td>\n",
       "      <td>District of Columbia Economic Recovery Act</td>\n",
       "    </tr>\n",
       "    <tr>\n",
       "      <th>18945</th>\n",
       "      <td>SECTION 1. RECONSULTATION ON CENTRAL VALLEY PR...</td>\n",
       "      <td>Requires the Commissioner of the Bureau of Rec...</td>\n",
       "      <td>To direct the Commissioner of the Bureau of Re...</td>\n",
       "    </tr>\n",
       "    <tr>\n",
       "      <th>18946</th>\n",
       "      <td>SECTION 1. CHARITABLE DEDUCTION FOR CONTRIBUTI...</td>\n",
       "      <td>Amends the Internal Revenue Code to set forth ...</td>\n",
       "      <td>A bill to amend the Internal Revenue Code of 1...</td>\n",
       "    </tr>\n",
       "    <tr>\n",
       "      <th>18947</th>\n",
       "      <td>SECTION 1. SPECIAL RULE FOR CERTAIN FACILITIES...</td>\n",
       "      <td>This bill amends the Internal Revenue Code, wi...</td>\n",
       "      <td>A bill to amend the Internal Revenue Code of 1...</td>\n",
       "    </tr>\n",
       "    <tr>\n",
       "      <th>18948</th>\n",
       "      <td>SECTION 1. SHORT TITLE.\\n\\n    This Act may be...</td>\n",
       "      <td>Behavioral Health Care Integration Act of 2016...</td>\n",
       "      <td>Behavioral Health Care Integration Act of 2016</td>\n",
       "    </tr>\n",
       "  </tbody>\n",
       "</table>\n",
       "<p>18949 rows × 3 columns</p>\n",
       "</div>"
      ],
      "text/plain": [
       "                                                    text  \\\n",
       "0      SECTION 1. LIABILITY OF BUSINESS ENTITIES PROV...   \n",
       "1      SECTION 1. SHORT TITLE.\\n\\n    This Act may be...   \n",
       "2      SECTION 1. SHORT TITLE.\\n\\n    This Act may be...   \n",
       "3      SECTION 1. NONRECOGNITION OF GAIN WHERE ROLLOV...   \n",
       "4      SECTION 1. SHORT TITLE.\\n\\n    This Act may be...   \n",
       "...                                                  ...   \n",
       "18944  SECTION 1. SHORT TITLE.\\n\\n    This Act may be...   \n",
       "18945  SECTION 1. RECONSULTATION ON CENTRAL VALLEY PR...   \n",
       "18946  SECTION 1. CHARITABLE DEDUCTION FOR CONTRIBUTI...   \n",
       "18947  SECTION 1. SPECIAL RULE FOR CERTAIN FACILITIES...   \n",
       "18948  SECTION 1. SHORT TITLE.\\n\\n    This Act may be...   \n",
       "\n",
       "                                                 summary  \\\n",
       "0      Shields a business entity from civil liability...   \n",
       "1      Human Rights Information Act - Requires certai...   \n",
       "2      Jackie Robinson Commemorative Coin Act - Direc...   \n",
       "3      Amends the Internal Revenue Code to provide (t...   \n",
       "4      Native American Energy Act - (Sec. 3) Amends t...   \n",
       "...                                                  ...   \n",
       "18944  District of Columbia Economic Recovery Act - A...   \n",
       "18945  Requires the Commissioner of the Bureau of Rec...   \n",
       "18946  Amends the Internal Revenue Code to set forth ...   \n",
       "18947  This bill amends the Internal Revenue Code, wi...   \n",
       "18948  Behavioral Health Care Integration Act of 2016...   \n",
       "\n",
       "                                                   title  \n",
       "0      A bill to limit the civil liability of busines...  \n",
       "1                           Human Rights Information Act  \n",
       "2                 Jackie Robinson Commemorative Coin Act  \n",
       "3      To amend the Internal Revenue Code to provide ...  \n",
       "4                             Native American Energy Act  \n",
       "...                                                  ...  \n",
       "18944         District of Columbia Economic Recovery Act  \n",
       "18945  To direct the Commissioner of the Bureau of Re...  \n",
       "18946  A bill to amend the Internal Revenue Code of 1...  \n",
       "18947  A bill to amend the Internal Revenue Code of 1...  \n",
       "18948     Behavioral Health Care Integration Act of 2016  \n",
       "\n",
       "[18949 rows x 3 columns]"
      ]
     },
     "execution_count": 12,
     "metadata": {},
     "output_type": "execute_result"
    }
   ],
   "source": [
    "train"
   ]
  },
  {
   "cell_type": "code",
   "execution_count": 14,
   "id": "c9297afa",
   "metadata": {},
   "outputs": [],
   "source": [
    "from nltk.tokenize import sent_tokenize, word_tokenize\n",
    "from nltk.corpus import stopwords"
   ]
  },
  {
   "cell_type": "code",
   "execution_count": 65,
   "id": "a636893a",
   "metadata": {},
   "outputs": [
    {
     "name": "stdout",
     "output_type": "stream",
     "text": [
      "SECTION 1. LIABILITY OF BUSINESS ENTITIES PROVIDING USE OF FACILITIES \n",
      "              TO NONPROFIT ORGANIZATIONS.\n",
      "\n",
      "    (a) Definitions.--In this section:\n",
      "            (1) Business entity.--The term ``business entity'' means a \n",
      "        firm, corporation, association, partnership, consortium, joint \n",
      "        venture, or other form of enterprise.\n",
      "            (2) Facility.--The term ``facility'' means any real \n",
      "        property, including any building, improvement, or appurtenance.\n",
      "            (3) Gross negligence.--The term ``gross negligence'' means \n",
      "        voluntary and conscious conduct by a person with knowledge (at \n",
      "        the time of the conduct) that the conduct is likely to be \n",
      "        harmful to the health or well-being of another person.\n",
      "            (4) Intentional misconduct.--The term ``intentional \n",
      "        misconduct'' means conduct by a person with knowledge (at the \n",
      "        time of the conduct) that the conduct is harmful to the health \n",
      "        or well-being of another person.\n",
      "            (5) Nonprofit organization.--The term ``nonprofit \n",
      "        organization'' means--\n",
      "                    (A) any organization described in section 501(c)(3) \n",
      "                of the Internal Revenue Code of 1986 and exempt from \n",
      "                tax under section 501(a) of such Code; or\n",
      "                    (B) any not-for-profit organization organized and \n",
      "                conducted for public benefit and operated primarily for \n",
      "                charitable, civic, educational, religious, welfare, or \n",
      "                health purposes.\n",
      "            (6) State.--The term ``State'' means each of the several \n",
      "        States, the District of Columbia, the Commonwealth of Puerto \n",
      "        Rico, the Virgin Islands, Guam, American Samoa, the Northern \n",
      "        Mariana Islands, any other territory or possession of the \n",
      "        United States, or any political subdivision of any such State, \n",
      "        territory, or possession.\n",
      "    (b) Limitation on Liability.--\n",
      "            (1) In general.--Subject to subsection (c), a business \n",
      "        entity shall not be subject to civil liability relating to any \n",
      "        injury or death occurring at a facility of the business entity \n",
      "        in connection with a use of such facility by a nonprofit \n",
      "        organization if--\n",
      "                    (A) the use occurs outside of the scope of business \n",
      "                of the business entity;\n",
      "                    (B) such injury or death occurs during a period \n",
      "                that such facility is used by the nonprofit \n",
      "                organization; and\n",
      "                    (C) the business entity authorized the use of such \n",
      "                facility by the nonprofit organization.\n",
      "            (2) Application.--This subsection shall apply--\n",
      "                    (A) with respect to civil liability under Federal \n",
      "                and State law; and\n",
      "                    (B) regardless of whether a nonprofit organization \n",
      "                pays for the use of a facility.\n",
      "    (c) Exception for Liability.--Subsection (b) shall not apply to an \n",
      "injury or death that results from an act or omission of a business \n",
      "entity that constitutes gross negligence or intentional misconduct, \n",
      "including any misconduct that--\n",
      "            (1) constitutes a crime of violence (as that term is \n",
      "        defined in section 16 of title 18, United States Code) or act \n",
      "        of international terrorism (as that term is defined in section \n",
      "        2331 of title 18) for which the defendant has been convicted in \n",
      "        any court;\n",
      "            (2) constitutes a hate crime (as that term is used in the \n",
      "        Hate Crime Statistics Act (28 U.S.C. 534 note));\n",
      "            (3) involves a sexual offense, as defined by applicable \n",
      "        State law, for which the defendant has been convicted in any \n",
      "        court; or\n",
      "            (4) involves misconduct for which the defendant has been \n",
      "        found to have violated a Federal or State civil rights law.\n",
      "    (d) Superseding Provision.--\n",
      "            (1) In general.--Subject to paragraph (2) and subsection \n",
      "        (e), this Act preempts the laws of any State to the extent that \n",
      "        such laws are inconsistent with this Act, except that this Act \n",
      "        shall not preempt any State law that provides additional \n",
      "        protection from liability for a business entity for an injury \n",
      "        or death with respect to which conditions under subparagraphs \n",
      "        (A) through (C) of subsection (b)(1) apply.\n",
      "            (2) Limitation.--Nothing in this Act shall be construed to \n",
      "        supersede any Federal or State health or safety law.\n",
      "    (e) Election of State Regarding Nonapplicability.--This Act shall \n",
      "not apply to any civil action in a State court against a business \n",
      "entity in which all parties are citizens of the State if such State \n",
      "enacts a statute--\n",
      "            (1) citing the authority of this subsection;\n",
      "            (2) declaring the election of such State that this Act \n",
      "        shall not apply to such civil action in the State; and\n",
      "            (3) containing no other provision.\n"
     ]
    }
   ],
   "source": [
    "example = train.iat[0, 0]\n",
    "print(example)"
   ]
  },
  {
   "cell_type": "code",
   "execution_count": 76,
   "id": "648587c9",
   "metadata": {},
   "outputs": [],
   "source": [
    "import regex as re\n",
    "\n",
    "def preprocessing(string):\n",
    "    # symbols\n",
    "    string = re.sub(r'\\([^)]*\\)', '', string)\n",
    "    string = re.sub('\\n', '', string)\n",
    "    string = re.sub(' +', ' ', string)\n",
    "    string = re.sub(r'[^\\w\\s]', '', string)\n",
    "    string = string.lower()\n",
    "    # tokenize\n",
    "    tokenized_string = word_tokenize(string) \n",
    "    # remove stopwords\n",
    "    filtered_words = [word for word in tokenized_string if word not in en_stopwords]\n",
    "    return filtered_words"
   ]
  },
  {
   "cell_type": "code",
   "execution_count": 77,
   "id": "85585127",
   "metadata": {},
   "outputs": [
    {
     "name": "stdout",
     "output_type": "stream",
     "text": [
      "['section', '1', 'liability', 'business', 'entities', 'providing', 'use', 'facilities', 'nonprofit', 'organizations', 'definitionsin', 'section', 'business', 'entitythe', 'term', 'business', 'entity', 'means', 'firm', 'corporation', 'association', 'partnership', 'consortium', 'joint', 'venture', 'form', 'enterprise', 'facilitythe', 'term', 'facility', 'means', 'real', 'property', 'including', 'building', 'improvement', 'appurtenance', 'gross', 'negligencethe', 'term', 'gross', 'negligence', 'means', 'voluntary', 'conscious', 'conduct', 'person', 'knowledge', 'conduct', 'likely', 'harmful', 'health', 'wellbeing', 'another', 'person', 'intentional', 'misconductthe', 'term', 'intentional', 'misconduct', 'means', 'conduct', 'person', 'knowledge', 'conduct', 'harmful', 'health', 'wellbeing', 'another', 'person', 'nonprofit', 'organizationthe', 'term', 'nonprofit', 'organization', 'means', 'organization', 'described', 'section', '501', 'internal', 'revenue', 'code', '1986', 'exempt', 'tax', 'section', '501', 'code', 'notforprofit', 'organization', 'organized', 'conducted', 'public', 'benefit', 'operated', 'primarily', 'charitable', 'civic', 'educational', 'religious', 'welfare', 'health', 'purposes', 'statethe', 'term', 'state', 'means', 'several', 'states', 'district', 'columbia', 'commonwealth', 'puerto', 'rico', 'virgin', 'islands', 'guam', 'american', 'samoa', 'northern', 'mariana', 'islands', 'territory', 'possession', 'united', 'states', 'political', 'subdivision', 'state', 'territory', 'possession', 'limitation', 'liability', 'generalsubject', 'subsection', 'business', 'entity', 'shall', 'subject', 'civil', 'liability', 'relating', 'injury', 'death', 'occurring', 'facility', 'business', 'entity', 'connection', 'use', 'facility', 'nonprofit', 'organization', 'use', 'occurs', 'outside', 'scope', 'business', 'business', 'entity', 'injury', 'death', 'occurs', 'period', 'facility', 'used', 'nonprofit', 'organization', 'business', 'entity', 'authorized', 'use', 'facility', 'nonprofit', 'organization', 'applicationthis', 'subsection', 'shall', 'apply', 'respect', 'civil', 'liability', 'federal', 'state', 'law', 'regardless', 'whether', 'nonprofit', 'organization', 'pays', 'use', 'facility', 'exception', 'liabilitysubsection', 'shall', 'apply', 'injury', 'death', 'results', 'act', 'omission', 'business', 'entity', 'constitutes', 'gross', 'negligence', 'intentional', 'misconduct', 'including', 'misconduct', 'constitutes', 'crime', 'violence', 'act', 'international', 'terrorism', 'defendant', 'convicted', 'court', 'constitutes', 'hate', 'crime', 'involves', 'sexual', 'offense', 'defined', 'applicable', 'state', 'law', 'defendant', 'convicted', 'court', 'involves', 'misconduct', 'defendant', 'found', 'violated', 'federal', 'state', 'civil', 'rights', 'law', 'superseding', 'provision', 'generalsubject', 'paragraph', 'subsection', 'act', 'preempts', 'laws', 'state', 'extent', 'laws', 'inconsistent', 'act', 'except', 'act', 'shall', 'preempt', 'state', 'law', 'provides', 'additional', 'protection', 'liability', 'business', 'entity', 'injury', 'death', 'respect', 'conditions', 'subparagraphs', 'subsection', 'apply', 'limitationnothing', 'act', 'shall', 'construed', 'supersede', 'federal', 'state', 'health', 'safety', 'law', 'election', 'state', 'regarding', 'nonapplicabilitythis', 'act', 'shall', 'apply', 'civil', 'action', 'state', 'court', 'business', 'entity', 'parties', 'citizens', 'state', 'state', 'enacts', 'statute', 'citing', 'authority', 'subsection', 'declaring', 'election', 'state', 'act', 'shall', 'apply', 'civil', 'action', 'state', 'containing', 'provision']\n"
     ]
    }
   ],
   "source": [
    "print(preprocessing(example))"
   ]
  }
 ],
 "metadata": {
  "kernelspec": {
   "display_name": "Python 3 (ipykernel)",
   "language": "python",
   "name": "python3"
  },
  "language_info": {
   "codemirror_mode": {
    "name": "ipython",
    "version": 3
   },
   "file_extension": ".py",
   "mimetype": "text/x-python",
   "name": "python",
   "nbconvert_exporter": "python",
   "pygments_lexer": "ipython3",
   "version": "3.9.7"
  }
 },
 "nbformat": 4,
 "nbformat_minor": 5
}
