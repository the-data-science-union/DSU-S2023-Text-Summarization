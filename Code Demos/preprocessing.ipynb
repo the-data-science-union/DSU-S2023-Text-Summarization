{
 "cells": [
  {
   "cell_type": "code",
   "execution_count": 1,
   "id": "9d16e5f4",
   "metadata": {},
   "outputs": [
    {
     "name": "stderr",
     "output_type": "stream",
     "text": [
      "Found cached dataset billsum (/Users/stae/.cache/huggingface/datasets/billsum/default/3.0.0/75cf1719d38d6553aa0e0714c393c74579b083ae6e164b2543684e3e92e0c4cc)\n"
     ]
    }
   ],
   "source": [
    "from datasets import load_dataset\n",
    "dataset = load_dataset(\"billsum\", split = \"test\")"
   ]
  },
  {
   "cell_type": "code",
   "execution_count": 2,
   "id": "481688e4",
   "metadata": {},
   "outputs": [
    {
     "data": {
      "text/html": [
       "<div>\n",
       "<style scoped>\n",
       "    .dataframe tbody tr th:only-of-type {\n",
       "        vertical-align: middle;\n",
       "    }\n",
       "\n",
       "    .dataframe tbody tr th {\n",
       "        vertical-align: top;\n",
       "    }\n",
       "\n",
       "    .dataframe thead th {\n",
       "        text-align: right;\n",
       "    }\n",
       "</style>\n",
       "<table border=\"1\" class=\"dataframe\">\n",
       "  <thead>\n",
       "    <tr style=\"text-align: right;\">\n",
       "      <th></th>\n",
       "      <th>text</th>\n",
       "      <th>summary</th>\n",
       "      <th>title</th>\n",
       "    </tr>\n",
       "  </thead>\n",
       "  <tbody>\n",
       "    <tr>\n",
       "      <th>0</th>\n",
       "      <td>SECTION 1. ENVIRONMENTAL INFRASTRUCTURE.\\n\\n  ...</td>\n",
       "      <td>Amends the Water Resources Development Act of ...</td>\n",
       "      <td>To make technical corrections to the Water Res...</td>\n",
       "    </tr>\n",
       "    <tr>\n",
       "      <th>1</th>\n",
       "      <td>That this Act may be cited as the ``Federal Fo...</td>\n",
       "      <td>Federal Forage Fee Act of 1993 - Subjects graz...</td>\n",
       "      <td>Federal Forage Fee Act of 1993</td>\n",
       "    </tr>\n",
       "    <tr>\n",
       "      <th>2</th>\n",
       "      <td>SECTION 1. SHORT TITLE.\\n\\n    This Act may be...</td>\n",
       "      <td>.  Merchant Marine of World War II Congression...</td>\n",
       "      <td>Merchant Marine of World War II Congressional ...</td>\n",
       "    </tr>\n",
       "    <tr>\n",
       "      <th>3</th>\n",
       "      <td>SECTION 1. SHORT TITLE.\\n\\n    This Act may be...</td>\n",
       "      <td>Small Business Modernization Act of 2004 - Ame...</td>\n",
       "      <td>To amend the Internal Revenue Code of 1986 to ...</td>\n",
       "    </tr>\n",
       "    <tr>\n",
       "      <th>4</th>\n",
       "      <td>SECTION 1. SHORT TITLE.\\n\\n    This Act may be...</td>\n",
       "      <td>Fair Access to Investment Research Act of 2016...</td>\n",
       "      <td>Fair Access to Investment Research Act of 2016</td>\n",
       "    </tr>\n",
       "    <tr>\n",
       "      <th>...</th>\n",
       "      <td>...</td>\n",
       "      <td>...</td>\n",
       "      <td>...</td>\n",
       "    </tr>\n",
       "    <tr>\n",
       "      <th>3264</th>\n",
       "      <td>SECTION 1. PLACEMENT PROGRAMS FOR FEDERAL EMPL...</td>\n",
       "      <td>Public Servant Priority Placement Act of 1995 ...</td>\n",
       "      <td>Public Servant Priority Placement Act of 1995</td>\n",
       "    </tr>\n",
       "    <tr>\n",
       "      <th>3265</th>\n",
       "      <td>SECTION 1. SHORT TITLE.\\n\\n    This Act may be...</td>\n",
       "      <td>Sportsmanship in Hunting Act of 2008 - Amends ...</td>\n",
       "      <td>A bill to amend title 18, United States Code, ...</td>\n",
       "    </tr>\n",
       "    <tr>\n",
       "      <th>3266</th>\n",
       "      <td>SECTION 1. SHORT TITLE.\\n\\n    This Act may be...</td>\n",
       "      <td>Helping College Students Cross the Finish Line...</td>\n",
       "      <td>Helping College Students Cross the Finish Line...</td>\n",
       "    </tr>\n",
       "    <tr>\n",
       "      <th>3267</th>\n",
       "      <td>SECTION 1. SHORT TITLE.\\n\\n    This Act may be...</td>\n",
       "      <td>Makes proceeds from such conveyances available...</td>\n",
       "      <td>Texas National Forests Improvement Act of 2000</td>\n",
       "    </tr>\n",
       "    <tr>\n",
       "      <th>3268</th>\n",
       "      <td>SECTION 1. SHORT TITLE.\\n\\n    This Act may be...</td>\n",
       "      <td>Federal Power Asset Privatization Act of 1995 ...</td>\n",
       "      <td>Federal Power Asset Privatization Act of 1995</td>\n",
       "    </tr>\n",
       "  </tbody>\n",
       "</table>\n",
       "<p>3269 rows × 3 columns</p>\n",
       "</div>"
      ],
      "text/plain": [
       "                                                   text  \\\n",
       "0     SECTION 1. ENVIRONMENTAL INFRASTRUCTURE.\\n\\n  ...   \n",
       "1     That this Act may be cited as the ``Federal Fo...   \n",
       "2     SECTION 1. SHORT TITLE.\\n\\n    This Act may be...   \n",
       "3     SECTION 1. SHORT TITLE.\\n\\n    This Act may be...   \n",
       "4     SECTION 1. SHORT TITLE.\\n\\n    This Act may be...   \n",
       "...                                                 ...   \n",
       "3264  SECTION 1. PLACEMENT PROGRAMS FOR FEDERAL EMPL...   \n",
       "3265  SECTION 1. SHORT TITLE.\\n\\n    This Act may be...   \n",
       "3266  SECTION 1. SHORT TITLE.\\n\\n    This Act may be...   \n",
       "3267  SECTION 1. SHORT TITLE.\\n\\n    This Act may be...   \n",
       "3268  SECTION 1. SHORT TITLE.\\n\\n    This Act may be...   \n",
       "\n",
       "                                                summary  \\\n",
       "0     Amends the Water Resources Development Act of ...   \n",
       "1     Federal Forage Fee Act of 1993 - Subjects graz...   \n",
       "2     .  Merchant Marine of World War II Congression...   \n",
       "3     Small Business Modernization Act of 2004 - Ame...   \n",
       "4     Fair Access to Investment Research Act of 2016...   \n",
       "...                                                 ...   \n",
       "3264  Public Servant Priority Placement Act of 1995 ...   \n",
       "3265  Sportsmanship in Hunting Act of 2008 - Amends ...   \n",
       "3266  Helping College Students Cross the Finish Line...   \n",
       "3267  Makes proceeds from such conveyances available...   \n",
       "3268  Federal Power Asset Privatization Act of 1995 ...   \n",
       "\n",
       "                                                  title  \n",
       "0     To make technical corrections to the Water Res...  \n",
       "1                        Federal Forage Fee Act of 1993  \n",
       "2     Merchant Marine of World War II Congressional ...  \n",
       "3     To amend the Internal Revenue Code of 1986 to ...  \n",
       "4        Fair Access to Investment Research Act of 2016  \n",
       "...                                                 ...  \n",
       "3264      Public Servant Priority Placement Act of 1995  \n",
       "3265  A bill to amend title 18, United States Code, ...  \n",
       "3266  Helping College Students Cross the Finish Line...  \n",
       "3267     Texas National Forests Improvement Act of 2000  \n",
       "3268      Federal Power Asset Privatization Act of 1995  \n",
       "\n",
       "[3269 rows x 3 columns]"
      ]
     },
     "execution_count": 2,
     "metadata": {},
     "output_type": "execute_result"
    }
   ],
   "source": [
    "import pandas as pd\n",
    "dataset.set_format(\"pandas\")\n",
    "df = dataset[0:]\n",
    "df"
   ]
  },
  {
   "cell_type": "markdown",
   "id": "27f3a4ae",
   "metadata": {},
   "source": [
    "Let's take a look at a particular row in the 'text' column:"
   ]
  },
  {
   "cell_type": "code",
   "execution_count": 3,
   "id": "a5b59747",
   "metadata": {},
   "outputs": [
    {
     "data": {
      "text/plain": [
       "\"SECTION 1. ENVIRONMENTAL INFRASTRUCTURE.\\n\\n    (a) Jackson County, Mississippi.--Section 219 of the Water \\nResources Development Act of 1992 (106 Stat. 4835; 110 Stat. 3757) is \\namended--\\n        (1) in subsection (c), by striking paragraph (5) and inserting \\n    the following:\\n        ``(5) Jackson county, mississippi.--Provision of an alternative \\n    water supply and a project for the elimination or control of \\n    combined sewer overflows for Jackson County, Mississippi.''; and\\n        (2) in subsection (e)(1), by striking ``$10,000,000'' and \\n    inserting ``$20,000,000''.\\n    (b) Manchester, New Hampshire.--Section 219(e)(3) of the Water \\nResources Development Act of 1992 (106 Stat. 4835; 110 Stat. 3757) is \\namended by striking ``$10,000,000'' and inserting ``$20,000,000''.\\n    (c) Atlanta, Georgia.--Section 219(f)(1) of the Water Resources \\nDevelopment Act of 1992 (106 Stat. 4835; 113 Stat. 335) is amended by \\nstriking ``$25,000,000 for''.\\n    (d) Paterson, Passaic County, and Pa\""
      ]
     },
     "execution_count": 3,
     "metadata": {},
     "output_type": "execute_result"
    }
   ],
   "source": [
    "\"{:.1000}\".format(df[\"text\"][0])"
   ]
  },
  {
   "cell_type": "markdown",
   "id": "ced9fb62",
   "metadata": {},
   "source": [
    "We can see that there are A LOT of special characters such as line breaks (\\n) and dashes, as well as code numbers (ex. '(U.S.C. 1087kk)')that we would not need for a summary. So, we get rid of these characters by using regex."
   ]
  },
  {
   "cell_type": "code",
   "execution_count": 4,
   "id": "0bcada00",
   "metadata": {},
   "outputs": [
    {
     "data": {
      "text/plain": [
       "\"SECTION 1. ENVIRONMENTAL INFRASTRUCTURE.    (a) Jackson County, Mississippi.--Section 219 of the Water Resources Development Act of 1992 (106 Stat. 4835; 110 Stat. 3757) is amended--        (1) in subsection (c), by striking paragraph (5) and inserting     the following:        ``(5) Jackson county, mississippi.--Provision of an alternative     water supply and a project for the elimination or control of     combined sewer overflows for Jackson County, Mississippi.''; and        (2) in subsection (e)(1), by striking ``$10,000,000'' and     inserting ``$20,000,000''.    (b) Manchester, New Hampshire.--Section 219(e)(3) of the Water Resources Development Act of 1992 (106 Stat. 4835; 110 Stat. 3757) is amended by striking ``$10,000,000'' and inserting ``$20,000,000''.    (c) Atlanta, Georgia.--Section 219(f)(1) of the Water Resources Development Act of 1992 (106 Stat. 4835; 113 Stat. 335) is amended by striking ``$25,000,000 for''.    (d) Paterson, Passaic County, and Passaic Valley, New \""
      ]
     },
     "execution_count": 4,
     "metadata": {},
     "output_type": "execute_result"
    }
   ],
   "source": [
    "import re\n",
    "\n",
    "# first, get rid of line breaks\n",
    "df[\"text\"] = [re.sub(\"\\n\", \"\", df[\"text\"][row]) for row in range(len(df))]\n",
    "\"{:.1000}\".format(df[\"text\"][0])"
   ]
  },
  {
   "cell_type": "markdown",
   "id": "9f0bd943",
   "metadata": {},
   "source": [
    "So what's going on here?\n",
    "\n",
    "The first argument in the re.sub() function is the character that you are looking to remove (in this case '\\n'). The second argument is the character you want to replace the character that you are removing (in this case we just want to remove line breaks, so we put an empty string). The third argument is the string that you are performing this operation on."
   ]
  },
  {
   "cell_type": "code",
   "execution_count": 5,
   "id": "edceedd9",
   "metadata": {},
   "outputs": [
    {
     "data": {
      "text/plain": [
       "\"SECTION 1. ENVIRONMENTAL INFRASTRUCTURE. Jackson County, Mississippi.Section 219 of the Water Resources Development Act of 1992 is amended in subsection , by striking paragraph and inserting the following: `` Jackson county, mississippi.Provision of an alternative water supply and a project for the elimination or control of combined sewer overflows for Jackson County, Mississippi.''; and in subsection , by striking ``$10,000,000'' and inserting ``$20,000,000''. Manchester, New Hampshire.Section 219 of the Water Resources Development Act of 1992 is amended by striking ``$10,000,000'' and inserting ``$20,000,000''. Atlanta, Georgia.Section 219 of the Water Resources Development Act of 1992 is amended by striking ``$25,000,000 for''. Paterson, Passaic County, and Passaic Valley, New Jersey.Section 219 of the Water Resources Development Act of 1992 is amended by striking ``$20,000,000 for''. Elizabeth and North Hudson, New Jersey.Section 219 of the Water Resources Development Act of 1992 i\""
      ]
     },
     "execution_count": 5,
     "metadata": {},
     "output_type": "execute_result"
    }
   ],
   "source": [
    "# Now moving onto parentheses and characters within\n",
    "df[\"text\"] = [re.sub(r'\\([^)]*\\)', '', df[\"text\"][row]) for row in range(len(df))]\n",
    "# Removing dashes\n",
    "df[\"text\"] = [re.sub(\"--\", '', df[\"text\"][row]) for row in range(len(df))]\n",
    "# Removing extra spaces\n",
    "df[\"text\"] = [re.sub(r'\\s+', ' ', df[\"text\"][row]) for row in range(len(df))]\n",
    "\n",
    "\"{:.1000}\".format(df[\"text\"][0])"
   ]
  },
  {
   "cell_type": "markdown",
   "id": "06023978",
   "metadata": {},
   "source": [
    "In the first regex function, we first start with wrapping the characters we want to remove with r'', which tells Python to treat everything inside r'' as raw text. This means that we do not need to use backslashes ('\\') to escape characters that have certain functions.\n",
    "\n",
    "' \\( ' looks for an opening round bracket.\n",
    "' [^)]* ' looks for characters other than closing parentheses that comes after the opening round bracket.\n",
    "' \\) ' looks for a closing round bracket.\n",
    "\n",
    "RegEx is a complicated tool to use, so I suggest looking into it yourself (or just search it up on slack everytime you use it lol)."
   ]
  },
  {
   "cell_type": "markdown",
   "id": "8f9ff28d",
   "metadata": {},
   "source": [
    "Now moving onto tokenzing, stemming, and stopwords:"
   ]
  },
  {
   "cell_type": "code",
   "execution_count": 6,
   "id": "ee9c2bc7",
   "metadata": {},
   "outputs": [
    {
     "data": {
      "text/plain": [
       "['SECTION 1.',\n",
       " 'ENVIRONMENTAL INFRASTRUCTURE.',\n",
       " 'Jackson County, Mississippi.Section 219 of the Water Resources Development Act of 1992 is amended in subsection , by striking paragraph and inserting the following: `` Jackson county, mississippi.Provision of an alternative water supply and a project for the elimination or control of combined sewer overflows for Jackson County, Mississippi.',\n",
       " \"''; and in subsection , by striking ``$10,000,000'' and inserting ``$20,000,000''.\",\n",
       " \"Manchester, New Hampshire.Section 219 of the Water Resources Development Act of 1992 is amended by striking ``$10,000,000'' and inserting ``$20,000,000''.\",\n",
       " \"Atlanta, Georgia.Section 219 of the Water Resources Development Act of 1992 is amended by striking ``$25,000,000 for''.\",\n",
       " \"Paterson, Passaic County, and Passaic Valley, New Jersey.Section 219 of the Water Resources Development Act of 1992 is amended by striking ``$20,000,000 for''.\",\n",
       " \"Elizabeth and North Hudson, New Jersey.Section 219 of the Water Resources Development Act of 1992 is amended in paragraph , by striking ``$20,000,000'' and inserting ``$10,000,000''; and in paragraph by striking ``$10,000,000'' and inserting ``$20,000,000''; and by striking ``in the city of North Hudson'' and inserting ``for the North Hudson Sewerage Authority''.SEC.\",\n",
       " '2.',\n",
       " 'UPPER MISSISSIPPI RIVER ENVIRONMENTAL MANAGEMENT PROGRAM.']"
      ]
     },
     "execution_count": 6,
     "metadata": {},
     "output_type": "execute_result"
    }
   ],
   "source": [
    "from nltk.tokenize import sent_tokenize, word_tokenize\n",
    "# tokenize; first try one row \n",
    "test_token = sent_tokenize(df[\"text\"][0])\n",
    "test_token[0:10]"
   ]
  },
  {
   "cell_type": "markdown",
   "id": "7ec11b6d",
   "metadata": {},
   "source": [
    "We tokenize by sentence instead of by words, because we plan to use tf-idf to summarize our text. For tf-idf, we need to calculate the frequency of each word for each sentence."
   ]
  },
  {
   "cell_type": "code",
   "execution_count": 7,
   "id": "c50f9288",
   "metadata": {},
   "outputs": [
    {
     "data": {
      "text/plain": [
       "['section',\n",
       " '1',\n",
       " '.',\n",
       " 'environment',\n",
       " 'infrastructur',\n",
       " '.',\n",
       " 'jackson',\n",
       " 'counti',\n",
       " ',',\n",
       " 'mississippi.sect']"
      ]
     },
     "execution_count": 7,
     "metadata": {},
     "output_type": "execute_result"
    }
   ],
   "source": [
    "# stemming and stopwords\n",
    "from nltk.stem import PorterStemmer\n",
    "from nltk.corpus import stopwords\n",
    "\n",
    "ps = PorterStemmer()\n",
    "processed_sentence = []\n",
    "stop_words = set(stopwords.words('english'))\n",
    "\n",
    "for sentence in test_token:\n",
    "    words = word_tokenize(sentence)\n",
    "    for word in words:\n",
    "        word = word.lower()\n",
    "        word = ps.stem(word)\n",
    "        if word not in stop_words:\n",
    "            processed_sentence.append(word)\n",
    "    \n",
    "processed_sentence[0:10]"
   ]
  },
  {
   "cell_type": "markdown",
   "id": "fd077236",
   "metadata": {},
   "source": [
    "We stem the words, since if there are words with the same root but different tenses, we still want them to be weighted together. Stopwords are common words that are not valuable, such as 'and' & 'or', so we remove them."
   ]
  }
 ],
 "metadata": {
  "kernelspec": {
   "display_name": "Python 3 (ipykernel)",
   "language": "python",
   "name": "python3"
  },
  "language_info": {
   "codemirror_mode": {
    "name": "ipython",
    "version": 3
   },
   "file_extension": ".py",
   "mimetype": "text/x-python",
   "name": "python",
   "nbconvert_exporter": "python",
   "pygments_lexer": "ipython3",
   "version": "3.9.7"
  }
 },
 "nbformat": 4,
 "nbformat_minor": 5
}
